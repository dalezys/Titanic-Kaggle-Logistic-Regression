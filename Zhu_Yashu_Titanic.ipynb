{
 "cells": [
  {
   "cell_type": "markdown",
   "metadata": {},
   "source": [
    "# Getting the data \n",
    "You may obtain the train and test datasets from the repository using code from the following cell.\n",
    "\n",
    "**NOTE** You may need to change the NOTEBOOK_ROOT variable to point to the directory into which you've cloned the repository.  "
   ]
  },
  {
   "cell_type": "code",
   "execution_count": 1,
   "metadata": {},
   "outputs": [],
   "source": [
    "import pandas as pd\n",
    "import os\n",
    "\n",
    "# on my machine, the root for data is \"./external/jack-dies/data\"\n",
    "\n",
    "NOTEBOOK_ROOT = \"./\"\n",
    "TITANIC_PATH = os.path.join( NOTEBOOK_ROOT, \"external/jack-dies\", \"data\")\n",
    "\n",
    "train_data = pd.read_csv( os.path.join(TITANIC_PATH, \"train.csv\"))\n",
    "test_data  = pd.read_csv( os.path.join(TITANIC_PATH, \"test.csv\"))"
   ]
  },
  {
   "cell_type": "markdown",
   "metadata": {},
   "source": [
    "# Preparation"
   ]
  },
  {
   "cell_type": "code",
   "execution_count": 2,
   "metadata": {},
   "outputs": [],
   "source": [
    "# Standard imports\n",
    "import pandas as pd\n",
    "import numpy as np\n",
    "import matplotlib.pyplot as plt\n",
    "\n",
    "# Common imports\n",
    "import os\n",
    "\n",
    "# Data Visualization\n",
    "import seaborn as sns\n",
    "\n",
    "# Pipeline\n",
    "from sklearn.base import BaseEstimator, TransformerMixin\n",
    "from sklearn.pipeline import Pipeline\n",
    "from sklearn.preprocessing import StandardScaler\n",
    "\n",
    "# SimpleImputer\n",
    "try:\n",
    "    from sklearn.impute import SimpleImputer # Scikit-Learn 0.20+\n",
    "except ImportError:\n",
    "    from sklearn.preprocessing import Imputer as SimpleImputer\n",
    "    \n",
    "# OneHotEncoder\n",
    "try:\n",
    "    from sklearn.preprocessing import OrdinalEncoder # just to raise an ImportError if Scikit-Learn < 0.20\n",
    "    from sklearn.preprocessing import OneHotEncoder\n",
    "except ImportError:\n",
    "    from future_encoders import OneHotEncoder # Scikit-Learn < 0.20\n",
    "    \n",
    "# Combine num_pipeline with cat_pipeline\n",
    "from sklearn.pipeline import FeatureUnion\n",
    "try:\n",
    "    from sklearn.preprocessing import OrdinalEncoder\n",
    "except ImportError:\n",
    "    from future_encoders import OrdinalEncoder # Scikit-Learn < 0.20\n",
    "\n",
    "# Model\n",
    "from sklearn.model_selection import cross_val_score, cross_val_predict\n",
    "from sklearn import linear_model, preprocessing, model_selection \n",
    "from sklearn.ensemble import RandomForestClassifier\n",
    "\n",
    "# Folds\n",
    "from sklearn.model_selection import StratifiedKFold\n",
    "from sklearn.base import clone\n",
    "\n",
    "# Confusion Metrics & Scores\n",
    "from sklearn import metrics\n",
    "\n",
    "# Plot the precision recall curve\n",
    "def plot_precision_recall_vs_threshold(precisions, recalls, thresholds):\n",
    "    plt.plot(thresholds, precisions[:-1], \"b--\", label=\"Precision\", linewidth=2)\n",
    "    plt.plot(thresholds, recalls[:-1], \"g-\", label=\"Recall\", linewidth=2)\n",
    "    plt.xlabel(\"Threshold\", fontsize=16)\n",
    "    plt.legend(loc=\"upper left\", fontsize=16)\n",
    "    plt.ylim([0, 1])"
   ]
  },
  {
   "cell_type": "markdown",
   "metadata": {},
   "source": [
    "# Data Preview"
   ]
  },
  {
   "cell_type": "code",
   "execution_count": 3,
   "metadata": {},
   "outputs": [
    {
     "name": "stdout",
     "output_type": "stream",
     "text": [
      "<class 'pandas.core.frame.DataFrame'>\n",
      "RangeIndex: 891 entries, 0 to 890\n",
      "Data columns (total 12 columns):\n",
      "PassengerId    891 non-null int64\n",
      "Survived       891 non-null int64\n",
      "Pclass         891 non-null int64\n",
      "Name           891 non-null object\n",
      "Sex            891 non-null object\n",
      "Age            714 non-null float64\n",
      "SibSp          891 non-null int64\n",
      "Parch          891 non-null int64\n",
      "Ticket         891 non-null object\n",
      "Fare           891 non-null float64\n",
      "Cabin          204 non-null object\n",
      "Embarked       889 non-null object\n",
      "dtypes: float64(2), int64(5), object(5)\n",
      "memory usage: 83.6+ KB\n"
     ]
    }
   ],
   "source": [
    "train_data.info()"
   ]
  },
  {
   "cell_type": "markdown",
   "metadata": {},
   "source": [
    "Numerical Attributes:\n",
    "\n",
    "- PassengerId\n",
    "- Survived\n",
    "- Age\n",
    "- SibSp\n",
    "- Parch\n",
    "- Fare\n",
    "\n",
    "Non-Numerical Attributes:\n",
    "\n",
    "- Pclass \n",
    "- Name \n",
    "- Sex\n",
    "- Ticket\n",
    "- Cabin\n",
    "- Embarked"
   ]
  },
  {
   "cell_type": "markdown",
   "metadata": {},
   "source": [
    "- **Survived**: 0 did not survive, 1  survived.\n",
    "- **Pclass**: passenger class.\n",
    "- **Name**, **Sex**, **Age**: self-explanatory\n",
    "- **SibSp**: how many siblings & spouses of the passenger aboard the Titanic.\n",
    "- **Parch**: how many children & parents of the passenger aboard the Titanic.\n",
    "- **Ticket**: ticket id\n",
    "- **Fare**: price paid (in pounds)\n",
    "- **Cabin**: passenger's cabin number\n",
    "- **Embarked**: where the passenger embarked the Titanic"
   ]
  },
  {
   "cell_type": "code",
   "execution_count": 4,
   "metadata": {},
   "outputs": [
    {
     "data": {
      "text/plain": [
       "PassengerId      0\n",
       "Survived         0\n",
       "Pclass           0\n",
       "Name             0\n",
       "Sex              0\n",
       "Age            177\n",
       "SibSp            0\n",
       "Parch            0\n",
       "Ticket           0\n",
       "Fare             0\n",
       "Cabin          687\n",
       "Embarked         2\n",
       "dtype: int64"
      ]
     },
     "execution_count": 4,
     "metadata": {},
     "output_type": "execute_result"
    }
   ],
   "source": [
    "train_data.isnull().sum()"
   ]
  },
  {
   "cell_type": "code",
   "execution_count": 5,
   "metadata": {},
   "outputs": [
    {
     "data": {
      "text/plain": [
       "PassengerId      0\n",
       "Pclass           0\n",
       "Name             0\n",
       "Sex              0\n",
       "Age             86\n",
       "SibSp            0\n",
       "Parch            0\n",
       "Ticket           0\n",
       "Fare             1\n",
       "Cabin          327\n",
       "Embarked         0\n",
       "dtype: int64"
      ]
     },
     "execution_count": 5,
     "metadata": {},
     "output_type": "execute_result"
    }
   ],
   "source": [
    "test_data.isnull().sum()"
   ]
  },
  {
   "cell_type": "markdown",
   "metadata": {},
   "source": [
    "From above, we could see that most of the Cabin information is missing. Hence, we won't use this in our model."
   ]
  },
  {
   "cell_type": "markdown",
   "metadata": {},
   "source": [
    "## Numerical Columns"
   ]
  },
  {
   "cell_type": "code",
   "execution_count": 6,
   "metadata": {},
   "outputs": [
    {
     "data": {
      "text/html": [
       "<div>\n",
       "<style scoped>\n",
       "    .dataframe tbody tr th:only-of-type {\n",
       "        vertical-align: middle;\n",
       "    }\n",
       "\n",
       "    .dataframe tbody tr th {\n",
       "        vertical-align: top;\n",
       "    }\n",
       "\n",
       "    .dataframe thead th {\n",
       "        text-align: right;\n",
       "    }\n",
       "</style>\n",
       "<table border=\"1\" class=\"dataframe\">\n",
       "  <thead>\n",
       "    <tr style=\"text-align: right;\">\n",
       "      <th></th>\n",
       "      <th>PassengerId</th>\n",
       "      <th>Survived</th>\n",
       "      <th>Pclass</th>\n",
       "      <th>Age</th>\n",
       "      <th>SibSp</th>\n",
       "      <th>Parch</th>\n",
       "      <th>Fare</th>\n",
       "    </tr>\n",
       "  </thead>\n",
       "  <tbody>\n",
       "    <tr>\n",
       "      <th>count</th>\n",
       "      <td>891.000000</td>\n",
       "      <td>891.000000</td>\n",
       "      <td>891.000000</td>\n",
       "      <td>714.000000</td>\n",
       "      <td>891.000000</td>\n",
       "      <td>891.000000</td>\n",
       "      <td>891.000000</td>\n",
       "    </tr>\n",
       "    <tr>\n",
       "      <th>mean</th>\n",
       "      <td>446.000000</td>\n",
       "      <td>0.383838</td>\n",
       "      <td>2.308642</td>\n",
       "      <td>29.699118</td>\n",
       "      <td>0.523008</td>\n",
       "      <td>0.381594</td>\n",
       "      <td>32.204208</td>\n",
       "    </tr>\n",
       "    <tr>\n",
       "      <th>std</th>\n",
       "      <td>257.353842</td>\n",
       "      <td>0.486592</td>\n",
       "      <td>0.836071</td>\n",
       "      <td>14.526497</td>\n",
       "      <td>1.102743</td>\n",
       "      <td>0.806057</td>\n",
       "      <td>49.693429</td>\n",
       "    </tr>\n",
       "    <tr>\n",
       "      <th>min</th>\n",
       "      <td>1.000000</td>\n",
       "      <td>0.000000</td>\n",
       "      <td>1.000000</td>\n",
       "      <td>0.420000</td>\n",
       "      <td>0.000000</td>\n",
       "      <td>0.000000</td>\n",
       "      <td>0.000000</td>\n",
       "    </tr>\n",
       "    <tr>\n",
       "      <th>25%</th>\n",
       "      <td>223.500000</td>\n",
       "      <td>0.000000</td>\n",
       "      <td>2.000000</td>\n",
       "      <td>20.125000</td>\n",
       "      <td>0.000000</td>\n",
       "      <td>0.000000</td>\n",
       "      <td>7.910400</td>\n",
       "    </tr>\n",
       "    <tr>\n",
       "      <th>50%</th>\n",
       "      <td>446.000000</td>\n",
       "      <td>0.000000</td>\n",
       "      <td>3.000000</td>\n",
       "      <td>28.000000</td>\n",
       "      <td>0.000000</td>\n",
       "      <td>0.000000</td>\n",
       "      <td>14.454200</td>\n",
       "    </tr>\n",
       "    <tr>\n",
       "      <th>75%</th>\n",
       "      <td>668.500000</td>\n",
       "      <td>1.000000</td>\n",
       "      <td>3.000000</td>\n",
       "      <td>38.000000</td>\n",
       "      <td>1.000000</td>\n",
       "      <td>0.000000</td>\n",
       "      <td>31.000000</td>\n",
       "    </tr>\n",
       "    <tr>\n",
       "      <th>max</th>\n",
       "      <td>891.000000</td>\n",
       "      <td>1.000000</td>\n",
       "      <td>3.000000</td>\n",
       "      <td>80.000000</td>\n",
       "      <td>8.000000</td>\n",
       "      <td>6.000000</td>\n",
       "      <td>512.329200</td>\n",
       "    </tr>\n",
       "  </tbody>\n",
       "</table>\n",
       "</div>"
      ],
      "text/plain": [
       "       PassengerId    Survived      Pclass         Age       SibSp  \\\n",
       "count   891.000000  891.000000  891.000000  714.000000  891.000000   \n",
       "mean    446.000000    0.383838    2.308642   29.699118    0.523008   \n",
       "std     257.353842    0.486592    0.836071   14.526497    1.102743   \n",
       "min       1.000000    0.000000    1.000000    0.420000    0.000000   \n",
       "25%     223.500000    0.000000    2.000000   20.125000    0.000000   \n",
       "50%     446.000000    0.000000    3.000000   28.000000    0.000000   \n",
       "75%     668.500000    1.000000    3.000000   38.000000    1.000000   \n",
       "max     891.000000    1.000000    3.000000   80.000000    8.000000   \n",
       "\n",
       "            Parch        Fare  \n",
       "count  891.000000  891.000000  \n",
       "mean     0.381594   32.204208  \n",
       "std      0.806057   49.693429  \n",
       "min      0.000000    0.000000  \n",
       "25%      0.000000    7.910400  \n",
       "50%      0.000000   14.454200  \n",
       "75%      0.000000   31.000000  \n",
       "max      6.000000  512.329200  "
      ]
     },
     "execution_count": 6,
     "metadata": {},
     "output_type": "execute_result"
    }
   ],
   "source": [
    "train_data.describe()"
   ]
  },
  {
   "cell_type": "code",
   "execution_count": 7,
   "metadata": {},
   "outputs": [
    {
     "data": {
      "image/png": "[encoded data removed]",
      "text/plain": [
       "<Figure size 1440x1080 with 9 Axes>"
      ]
     },
     "metadata": {},
     "output_type": "display_data"
    }
   ],
   "source": [
    "%matplotlib inline \n",
    "\n",
    "train_data.hist(bins=10, figsize=(20,15))\n",
    "plt.show()"
   ]
  },
  {
   "cell_type": "code",
   "execution_count": 8,
   "metadata": {},
   "outputs": [
    {
     "data": {
      "text/plain": [
       "Survived       1.000000\n",
       "Fare           0.257307\n",
       "Parch          0.081629\n",
       "PassengerId   -0.005007\n",
       "SibSp         -0.035322\n",
       "Age           -0.077221\n",
       "Pclass        -0.338481\n",
       "Name: Survived, dtype: float64"
      ]
     },
     "execution_count": 8,
     "metadata": {},
     "output_type": "execute_result"
    }
   ],
   "source": [
    "corr_matrix = train_data.corr()\n",
    "corr_matrix[\"Survived\"].sort_values(ascending=False)"
   ]
  },
  {
   "cell_type": "code",
   "execution_count": 9,
   "metadata": {},
   "outputs": [],
   "source": [
    "# Set label for graphs\n",
    "train_survived = 'survived'\n",
    "train_not_survived = 'not survived'"
   ]
  },
  {
   "cell_type": "markdown",
   "metadata": {},
   "source": [
    "### Age"
   ]
  },
  {
   "cell_type": "code",
   "execution_count": 10,
   "metadata": {},
   "outputs": [
    {
     "name": "stderr",
     "output_type": "stream",
     "text": [
      "E:\\Visual Studio\\Anaconda3_64\\lib\\site-packages\\matplotlib\\axes\\_axes.py:6462: UserWarning: The 'normed' kwarg is deprecated, and has been replaced by the 'density' kwarg.\n",
      "  warnings.warn(\"The 'normed' kwarg is deprecated, and has been \"\n",
      "E:\\Visual Studio\\Anaconda3_64\\lib\\site-packages\\matplotlib\\axes\\_axes.py:6462: UserWarning: The 'normed' kwarg is deprecated, and has been replaced by the 'density' kwarg.\n",
      "  warnings.warn(\"The 'normed' kwarg is deprecated, and has been \"\n"
     ]
    },
    {
     "data": {
      "text/plain": [
       "Text(0.5,1,'Age')"
      ]
     },
     "execution_count": 10,
     "metadata": {},
     "output_type": "execute_result"
    },
    {
     "data": {
      "image/png": "[encoded data removed]",
      "text/plain": [
       "<Figure size 432x288 with 1 Axes>"
      ]
     },
     "metadata": {},
     "output_type": "display_data"
    }
   ],
   "source": [
    "ax = sns.distplot(train_data[train_data['Survived']==1].Age.dropna(), bins=20, label = train_survived)\n",
    "ax = sns.distplot(train_data[train_data['Survived']==0].Age.dropna(), bins=20, label = train_not_survived)\n",
    "ax.legend()\n",
    "ax.set_title('Age')"
   ]
  },
  {
   "cell_type": "markdown",
   "metadata": {},
   "source": [
    "### Parch"
   ]
  },
  {
   "cell_type": "code",
   "execution_count": 11,
   "metadata": {},
   "outputs": [
    {
     "data": {
      "text/html": [
       "<div>\n",
       "<style scoped>\n",
       "    .dataframe tbody tr th:only-of-type {\n",
       "        vertical-align: middle;\n",
       "    }\n",
       "\n",
       "    .dataframe tbody tr th {\n",
       "        vertical-align: top;\n",
       "    }\n",
       "\n",
       "    .dataframe thead th {\n",
       "        text-align: right;\n",
       "    }\n",
       "</style>\n",
       "<table border=\"1\" class=\"dataframe\">\n",
       "  <thead>\n",
       "    <tr style=\"text-align: right;\">\n",
       "      <th></th>\n",
       "      <th>count</th>\n",
       "      <th>mean</th>\n",
       "    </tr>\n",
       "    <tr>\n",
       "      <th>Parch</th>\n",
       "      <th></th>\n",
       "      <th></th>\n",
       "    </tr>\n",
       "  </thead>\n",
       "  <tbody>\n",
       "    <tr>\n",
       "      <th>0</th>\n",
       "      <td>678</td>\n",
       "      <td>0.343658</td>\n",
       "    </tr>\n",
       "    <tr>\n",
       "      <th>1</th>\n",
       "      <td>118</td>\n",
       "      <td>0.550847</td>\n",
       "    </tr>\n",
       "    <tr>\n",
       "      <th>2</th>\n",
       "      <td>80</td>\n",
       "      <td>0.500000</td>\n",
       "    </tr>\n",
       "    <tr>\n",
       "      <th>3</th>\n",
       "      <td>5</td>\n",
       "      <td>0.600000</td>\n",
       "    </tr>\n",
       "    <tr>\n",
       "      <th>4</th>\n",
       "      <td>4</td>\n",
       "      <td>0.000000</td>\n",
       "    </tr>\n",
       "    <tr>\n",
       "      <th>5</th>\n",
       "      <td>5</td>\n",
       "      <td>0.200000</td>\n",
       "    </tr>\n",
       "    <tr>\n",
       "      <th>6</th>\n",
       "      <td>1</td>\n",
       "      <td>0.000000</td>\n",
       "    </tr>\n",
       "  </tbody>\n",
       "</table>\n",
       "</div>"
      ],
      "text/plain": [
       "       count      mean\n",
       "Parch                 \n",
       "0        678  0.343658\n",
       "1        118  0.550847\n",
       "2         80  0.500000\n",
       "3          5  0.600000\n",
       "4          4  0.000000\n",
       "5          5  0.200000\n",
       "6          1  0.000000"
      ]
     },
     "execution_count": 11,
     "metadata": {},
     "output_type": "execute_result"
    }
   ],
   "source": [
    "train_data.groupby(\"Parch\").agg([ \"count\", \"mean\"])[\"Survived\"]"
   ]
  },
  {
   "cell_type": "code",
   "execution_count": 12,
   "metadata": {},
   "outputs": [
    {
     "data": {
      "image/png": "[encoded data removed]",
      "text/plain": [
       "<Figure size 720x288 with 1 Axes>"
      ]
     },
     "metadata": {},
     "output_type": "display_data"
    }
   ],
   "source": [
    "axes = sns.factorplot('Parch','Survived', data=train_data, aspect = 2.5, )"
   ]
  },
  {
   "cell_type": "markdown",
   "metadata": {},
   "source": [
    "### SibSp"
   ]
  },
  {
   "cell_type": "code",
   "execution_count": 13,
   "metadata": {},
   "outputs": [
    {
     "data": {
      "text/html": [
       "<div>\n",
       "<style scoped>\n",
       "    .dataframe tbody tr th:only-of-type {\n",
       "        vertical-align: middle;\n",
       "    }\n",
       "\n",
       "    .dataframe tbody tr th {\n",
       "        vertical-align: top;\n",
       "    }\n",
       "\n",
       "    .dataframe thead th {\n",
       "        text-align: right;\n",
       "    }\n",
       "</style>\n",
       "<table border=\"1\" class=\"dataframe\">\n",
       "  <thead>\n",
       "    <tr style=\"text-align: right;\">\n",
       "      <th></th>\n",
       "      <th>count</th>\n",
       "      <th>mean</th>\n",
       "    </tr>\n",
       "    <tr>\n",
       "      <th>SibSp</th>\n",
       "      <th></th>\n",
       "      <th></th>\n",
       "    </tr>\n",
       "  </thead>\n",
       "  <tbody>\n",
       "    <tr>\n",
       "      <th>0</th>\n",
       "      <td>608</td>\n",
       "      <td>0.345395</td>\n",
       "    </tr>\n",
       "    <tr>\n",
       "      <th>1</th>\n",
       "      <td>209</td>\n",
       "      <td>0.535885</td>\n",
       "    </tr>\n",
       "    <tr>\n",
       "      <th>2</th>\n",
       "      <td>28</td>\n",
       "      <td>0.464286</td>\n",
       "    </tr>\n",
       "    <tr>\n",
       "      <th>3</th>\n",
       "      <td>16</td>\n",
       "      <td>0.250000</td>\n",
       "    </tr>\n",
       "    <tr>\n",
       "      <th>4</th>\n",
       "      <td>18</td>\n",
       "      <td>0.166667</td>\n",
       "    </tr>\n",
       "    <tr>\n",
       "      <th>5</th>\n",
       "      <td>5</td>\n",
       "      <td>0.000000</td>\n",
       "    </tr>\n",
       "    <tr>\n",
       "      <th>8</th>\n",
       "      <td>7</td>\n",
       "      <td>0.000000</td>\n",
       "    </tr>\n",
       "  </tbody>\n",
       "</table>\n",
       "</div>"
      ],
      "text/plain": [
       "       count      mean\n",
       "SibSp                 \n",
       "0        608  0.345395\n",
       "1        209  0.535885\n",
       "2         28  0.464286\n",
       "3         16  0.250000\n",
       "4         18  0.166667\n",
       "5          5  0.000000\n",
       "8          7  0.000000"
      ]
     },
     "execution_count": 13,
     "metadata": {},
     "output_type": "execute_result"
    }
   ],
   "source": [
    "train_data.groupby(\"SibSp\").agg([ \"count\", \"mean\"])[\"Survived\"]"
   ]
  },
  {
   "cell_type": "code",
   "execution_count": 14,
   "metadata": {},
   "outputs": [
    {
     "data": {
      "image/png": "[encoded data removed]",
      "text/plain": [
       "<Figure size 720x288 with 1 Axes>"
      ]
     },
     "metadata": {},
     "output_type": "display_data"
    }
   ],
   "source": [
    "axes = sns.factorplot('SibSp','Survived', data=train_data, aspect = 2.5, )"
   ]
  },
  {
   "cell_type": "markdown",
   "metadata": {},
   "source": [
    "### Fare"
   ]
  },
  {
   "cell_type": "code",
   "execution_count": 15,
   "metadata": {},
   "outputs": [
    {
     "name": "stderr",
     "output_type": "stream",
     "text": [
      "E:\\Visual Studio\\Anaconda3_64\\lib\\site-packages\\matplotlib\\axes\\_axes.py:6462: UserWarning: The 'normed' kwarg is deprecated, and has been replaced by the 'density' kwarg.\n",
      "  warnings.warn(\"The 'normed' kwarg is deprecated, and has been \"\n",
      "E:\\Visual Studio\\Anaconda3_64\\lib\\site-packages\\matplotlib\\axes\\_axes.py:6462: UserWarning: The 'normed' kwarg is deprecated, and has been replaced by the 'density' kwarg.\n",
      "  warnings.warn(\"The 'normed' kwarg is deprecated, and has been \"\n"
     ]
    },
    {
     "data": {
      "image/png": "[encoded data removed]",
      "text/plain": [
       "<Figure size 432x288 with 1 Axes>"
      ]
     },
     "metadata": {},
     "output_type": "display_data"
    }
   ],
   "source": [
    "ax = sns.distplot(train_data[train_data['Survived']==1].Fare.dropna(), bins=10, label = train_survived)\n",
    "ax = sns.distplot(train_data[train_data['Survived']==0].Fare.dropna(), bins=10, label = train_not_survived)\n",
    "ax.legend()\n",
    "_ = ax.set_title('Fare')"
   ]
  },
  {
   "cell_type": "markdown",
   "metadata": {},
   "source": [
    "## Categorical Columns"
   ]
  },
  {
   "cell_type": "markdown",
   "metadata": {},
   "source": [
    "### Pclass"
   ]
  },
  {
   "cell_type": "code",
   "execution_count": 16,
   "metadata": {},
   "outputs": [
    {
     "data": {
      "text/html": [
       "<div>\n",
       "<style scoped>\n",
       "    .dataframe tbody tr th:only-of-type {\n",
       "        vertical-align: middle;\n",
       "    }\n",
       "\n",
       "    .dataframe tbody tr th {\n",
       "        vertical-align: top;\n",
       "    }\n",
       "\n",
       "    .dataframe thead th {\n",
       "        text-align: right;\n",
       "    }\n",
       "</style>\n",
       "<table border=\"1\" class=\"dataframe\">\n",
       "  <thead>\n",
       "    <tr style=\"text-align: right;\">\n",
       "      <th></th>\n",
       "      <th>count</th>\n",
       "      <th>mean</th>\n",
       "    </tr>\n",
       "    <tr>\n",
       "      <th>Pclass</th>\n",
       "      <th></th>\n",
       "      <th></th>\n",
       "    </tr>\n",
       "  </thead>\n",
       "  <tbody>\n",
       "    <tr>\n",
       "      <th>1</th>\n",
       "      <td>216</td>\n",
       "      <td>0.629630</td>\n",
       "    </tr>\n",
       "    <tr>\n",
       "      <th>2</th>\n",
       "      <td>184</td>\n",
       "      <td>0.472826</td>\n",
       "    </tr>\n",
       "    <tr>\n",
       "      <th>3</th>\n",
       "      <td>491</td>\n",
       "      <td>0.242363</td>\n",
       "    </tr>\n",
       "  </tbody>\n",
       "</table>\n",
       "</div>"
      ],
      "text/plain": [
       "        count      mean\n",
       "Pclass                 \n",
       "1         216  0.629630\n",
       "2         184  0.472826\n",
       "3         491  0.242363"
      ]
     },
     "execution_count": 16,
     "metadata": {},
     "output_type": "execute_result"
    }
   ],
   "source": [
    "train_data.groupby(\"Pclass\").agg([ \"count\", \"mean\"])[\"Survived\"]"
   ]
  },
  {
   "cell_type": "code",
   "execution_count": 17,
   "metadata": {},
   "outputs": [
    {
     "data": {
      "image/png": "[encoded data removed]",
      "text/plain": [
       "<Figure size 576x288 with 1 Axes>"
      ]
     },
     "metadata": {},
     "output_type": "display_data"
    }
   ],
   "source": [
    "axes = sns.factorplot('Pclass','Survived', data=train_data, aspect = 2, )"
   ]
  },
  {
   "cell_type": "markdown",
   "metadata": {},
   "source": [
    "### Sex"
   ]
  },
  {
   "cell_type": "code",
   "execution_count": 18,
   "metadata": {},
   "outputs": [
    {
     "data": {
      "text/plain": [
       "male      577\n",
       "female    314\n",
       "Name: Sex, dtype: int64"
      ]
     },
     "execution_count": 18,
     "metadata": {},
     "output_type": "execute_result"
    }
   ],
   "source": [
    "train_data[\"Sex\"].value_counts()"
   ]
  },
  {
   "cell_type": "code",
   "execution_count": 19,
   "metadata": {},
   "outputs": [
    {
     "data": {
      "text/html": [
       "<div>\n",
       "<style scoped>\n",
       "    .dataframe tbody tr th:only-of-type {\n",
       "        vertical-align: middle;\n",
       "    }\n",
       "\n",
       "    .dataframe tbody tr th {\n",
       "        vertical-align: top;\n",
       "    }\n",
       "\n",
       "    .dataframe thead th {\n",
       "        text-align: right;\n",
       "    }\n",
       "</style>\n",
       "<table border=\"1\" class=\"dataframe\">\n",
       "  <thead>\n",
       "    <tr style=\"text-align: right;\">\n",
       "      <th></th>\n",
       "      <th>count</th>\n",
       "      <th>mean</th>\n",
       "    </tr>\n",
       "    <tr>\n",
       "      <th>Sex</th>\n",
       "      <th></th>\n",
       "      <th></th>\n",
       "    </tr>\n",
       "  </thead>\n",
       "  <tbody>\n",
       "    <tr>\n",
       "      <th>female</th>\n",
       "      <td>314</td>\n",
       "      <td>0.742038</td>\n",
       "    </tr>\n",
       "    <tr>\n",
       "      <th>male</th>\n",
       "      <td>577</td>\n",
       "      <td>0.188908</td>\n",
       "    </tr>\n",
       "  </tbody>\n",
       "</table>\n",
       "</div>"
      ],
      "text/plain": [
       "        count      mean\n",
       "Sex                    \n",
       "female    314  0.742038\n",
       "male      577  0.188908"
      ]
     },
     "execution_count": 19,
     "metadata": {},
     "output_type": "execute_result"
    }
   ],
   "source": [
    "# Dislay how many male/female in total and the percentage of survival\n",
    "train_data.groupby(\"Sex\").agg([ \"count\", \"mean\"])[\"Survived\"]"
   ]
  },
  {
   "cell_type": "markdown",
   "metadata": {},
   "source": [
    "### Embarked"
   ]
  },
  {
   "cell_type": "code",
   "execution_count": 20,
   "metadata": {},
   "outputs": [
    {
     "data": {
      "text/plain": [
       "S    644\n",
       "C    168\n",
       "Q     77\n",
       "Name: Embarked, dtype: int64"
      ]
     },
     "execution_count": 20,
     "metadata": {},
     "output_type": "execute_result"
    }
   ],
   "source": [
    "# Port of Embarkation\n",
    "train_data[\"Embarked\"].value_counts()"
   ]
  },
  {
   "cell_type": "code",
   "execution_count": 21,
   "metadata": {},
   "outputs": [
    {
     "data": {
      "text/html": [
       "<div>\n",
       "<style scoped>\n",
       "    .dataframe tbody tr th:only-of-type {\n",
       "        vertical-align: middle;\n",
       "    }\n",
       "\n",
       "    .dataframe tbody tr th {\n",
       "        vertical-align: top;\n",
       "    }\n",
       "\n",
       "    .dataframe thead th {\n",
       "        text-align: right;\n",
       "    }\n",
       "</style>\n",
       "<table border=\"1\" class=\"dataframe\">\n",
       "  <thead>\n",
       "    <tr style=\"text-align: right;\">\n",
       "      <th></th>\n",
       "      <th>count</th>\n",
       "      <th>mean</th>\n",
       "    </tr>\n",
       "    <tr>\n",
       "      <th>Embarked</th>\n",
       "      <th></th>\n",
       "      <th></th>\n",
       "    </tr>\n",
       "  </thead>\n",
       "  <tbody>\n",
       "    <tr>\n",
       "      <th>C</th>\n",
       "      <td>168</td>\n",
       "      <td>0.553571</td>\n",
       "    </tr>\n",
       "    <tr>\n",
       "      <th>Q</th>\n",
       "      <td>77</td>\n",
       "      <td>0.389610</td>\n",
       "    </tr>\n",
       "    <tr>\n",
       "      <th>S</th>\n",
       "      <td>644</td>\n",
       "      <td>0.336957</td>\n",
       "    </tr>\n",
       "  </tbody>\n",
       "</table>\n",
       "</div>"
      ],
      "text/plain": [
       "          count      mean\n",
       "Embarked                 \n",
       "C           168  0.553571\n",
       "Q            77  0.389610\n",
       "S           644  0.336957"
      ]
     },
     "execution_count": 21,
     "metadata": {},
     "output_type": "execute_result"
    }
   ],
   "source": [
    "# Do the same for Embarked data\n",
    "train_data.groupby(\"Embarked\").agg([\"count\", \"mean\"])[\"Survived\"]"
   ]
  },
  {
   "cell_type": "markdown",
   "metadata": {},
   "source": [
    "## Consider Attributes Together"
   ]
  },
  {
   "cell_type": "markdown",
   "metadata": {},
   "source": [
    "### Consider Sex and Age attributes together"
   ]
  },
  {
   "cell_type": "code",
   "execution_count": 22,
   "metadata": {},
   "outputs": [
    {
     "name": "stderr",
     "output_type": "stream",
     "text": [
      "E:\\Visual Studio\\Anaconda3_64\\lib\\site-packages\\matplotlib\\axes\\_axes.py:6462: UserWarning: The 'normed' kwarg is deprecated, and has been replaced by the 'density' kwarg.\n",
      "  warnings.warn(\"The 'normed' kwarg is deprecated, and has been \"\n",
      "E:\\Visual Studio\\Anaconda3_64\\lib\\site-packages\\matplotlib\\axes\\_axes.py:6462: UserWarning: The 'normed' kwarg is deprecated, and has been replaced by the 'density' kwarg.\n",
      "  warnings.warn(\"The 'normed' kwarg is deprecated, and has been \"\n",
      "E:\\Visual Studio\\Anaconda3_64\\lib\\site-packages\\matplotlib\\axes\\_axes.py:6462: UserWarning: The 'normed' kwarg is deprecated, and has been replaced by the 'density' kwarg.\n",
      "  warnings.warn(\"The 'normed' kwarg is deprecated, and has been \"\n",
      "E:\\Visual Studio\\Anaconda3_64\\lib\\site-packages\\matplotlib\\axes\\_axes.py:6462: UserWarning: The 'normed' kwarg is deprecated, and has been replaced by the 'density' kwarg.\n",
      "  warnings.warn(\"The 'normed' kwarg is deprecated, and has been \"\n"
     ]
    },
    {
     "data": {
      "image/png": "[encoded data removed]",
      "text/plain": [
       "<Figure size 720x288 with 2 Axes>"
      ]
     },
     "metadata": {},
     "output_type": "display_data"
    }
   ],
   "source": [
    "fig, axes = plt.subplots(nrows=1, ncols=2,figsize=(10, 4))\n",
    "train_females = train_data[train_data['Sex']=='female']\n",
    "train_males = train_data[train_data['Sex']=='male']\n",
    "ax = sns.distplot(train_females[train_females['Survived']==1].Age.dropna(), bins=10, label = train_survived, ax = axes[0], kde = False)\n",
    "ax = sns.distplot(train_females[train_females['Survived']==0].Age.dropna(), bins=10, label = train_not_survived, ax = axes[0], kde = False)\n",
    "ax.legend()\n",
    "ax.set_title('Female')\n",
    "ax = sns.distplot(train_males[train_males['Survived']==1].Age.dropna(), bins=10, label = train_survived, ax = axes[1], kde = False)\n",
    "ax = sns.distplot(train_males[train_males['Survived']==0].Age.dropna(), bins=10, label = train_not_survived, ax = axes[1], kde = False)\n",
    "ax.legend()\n",
    "_ = ax.set_title('Male')"
   ]
  },
  {
   "cell_type": "markdown",
   "metadata": {},
   "source": [
    "### Consider the Pclass, Sex, Embarked attributes at the same time"
   ]
  },
  {
   "cell_type": "code",
   "execution_count": 23,
   "metadata": {},
   "outputs": [
    {
     "data": {
      "text/plain": [
       "<seaborn.axisgrid.FacetGrid at 0x1a43a295860>"
      ]
     },
     "execution_count": 23,
     "metadata": {},
     "output_type": "execute_result"
    },
    {
     "data": {
      "image/png": "[encoded data removed]",
      "text/plain": [
       "<Figure size 502.5x864 with 3 Axes>"
      ]
     },
     "metadata": {},
     "output_type": "display_data"
    }
   ],
   "source": [
    "pclass_plot = sns.FacetGrid(train_data, row='Embarked', size=4, aspect=1.5)\n",
    "pclass_plot.map(sns.pointplot, 'Pclass', 'Survived', 'Sex', palette=None,  order=None, hue_order=None )\n",
    "pclass_plot.add_legend()"
   ]
  },
  {
   "cell_type": "markdown",
   "metadata": {},
   "source": [
    "### Age with Pclass"
   ]
  },
  {
   "cell_type": "code",
   "execution_count": 24,
   "metadata": {
    "scrolled": false
   },
   "outputs": [
    {
     "data": {
      "text/plain": [
       "<seaborn.axisgrid.FacetGrid at 0x1a43a5a45f8>"
      ]
     },
     "execution_count": 24,
     "metadata": {},
     "output_type": "execute_result"
    },
    {
     "data": {
      "image/png": "[encoded data removed]",
      "text/plain": [
       "<Figure size 548x540 with 6 Axes>"
      ]
     },
     "metadata": {},
     "output_type": "display_data"
    }
   ],
   "source": [
    "grid = sns.FacetGrid(train_data, col='Survived', row='Pclass', size=2.5, aspect=1.5)\n",
    "grid.map(plt.hist, 'Age', alpha=.5, bins=20)\n",
    "grid.add_legend()"
   ]
  },
  {
   "cell_type": "markdown",
   "metadata": {},
   "source": [
    "From above we could see:\n",
    "\n",
    "- Female had a higher chance to survive than male\n",
    "- People with less relatives had a higher chance to survive than people with mant relatives on board\n",
    "- People younger than 40 had a higher chance to survive than those above\n",
    "- Male kids had a higher chance to survive than female kids"
   ]
  },
  {
   "cell_type": "markdown",
   "metadata": {},
   "source": [
    "# Data Transformation Preparations (Pipelines)"
   ]
  },
  {
   "cell_type": "code",
   "execution_count": 25,
   "metadata": {},
   "outputs": [],
   "source": [
    "# A class to select numerical or categorical columns \n",
    "# since Scikit-Learn doesn't handle DataFrames yet\n",
    "class DataFrameSelector(BaseEstimator, TransformerMixin):\n",
    "    def __init__(self, attribute_names):\n",
    "        self.attribute_names = attribute_names\n",
    "    def fit(self, X, y=None):\n",
    "        return self\n",
    "    def transform(self, X):\n",
    "        return X[self.attribute_names]\n",
    "    \n",
    "# Fill in the missing values with most frequent situation\n",
    "class MostFrequentImputer(BaseEstimator, TransformerMixin):\n",
    "    def fit(self, X, y=None):\n",
    "        self.most_frequent_ = pd.Series([X[c].value_counts().index[0] for c in X],\n",
    "                                        index=X.columns)\n",
    "        return self\n",
    "    def transform(self, X, y=None):\n",
    "        return X.fillna(self.most_frequent_)\n"
   ]
  },
  {
   "cell_type": "markdown",
   "metadata": {},
   "source": [
    "# Build the Models"
   ]
  },
  {
   "cell_type": "markdown",
   "metadata": {},
   "source": [
    "## Develop Baseline Model"
   ]
  },
  {
   "cell_type": "markdown",
   "metadata": {},
   "source": [
    "The baseline model is just the logistic regression base on our preprocessed data without any feature engineering and contains cheating as in the lecture. This is intend to better improve my model. With this model as baseline, it would be more directly and easier to see whether certain feature change, drop, or merge actually improve the model or not."
   ]
  },
  {
   "cell_type": "code",
   "execution_count": 26,
   "metadata": {},
   "outputs": [],
   "source": [
    "base_data = train_data.copy()"
   ]
  },
  {
   "cell_type": "code",
   "execution_count": 27,
   "metadata": {},
   "outputs": [],
   "source": [
    "# Convert Embarked to numerical values\n",
    "ports = {\"S\": -1, \"Q\": 0, \"C\": 1}\n",
    "base_data['Embarked'] = base_data['Embarked'].map(ports)\n",
    "\n",
    "# Convert Sex to numerical values\n",
    "sex_map = {\"male\": -1, \"female\": 1}\n",
    "base_data['Sex'] = base_data['Sex'].map(sex_map)\n",
    "\n",
    "# In Baseline model, we treat everything as numerical\n",
    "base_attribs = [\"Age\", \"SibSp\", \"Parch\", \"Fare\", \"Sex\", \"Pclass\", \"Embarked\"]\n",
    "\n",
    "# build base pipeline\n",
    "base_pipeline = Pipeline([\n",
    "    (\"num_selector\", DataFrameSelector(base_attribs)),\n",
    "    (\"num_imputer\", SimpleImputer(strategy = \"median\")),\n",
    "    ])"
   ]
  },
  {
   "cell_type": "code",
   "execution_count": 28,
   "metadata": {},
   "outputs": [],
   "source": [
    "X_base = base_pipeline.fit_transform(base_data)\n",
    "y_base = base_data[\"Survived\"]"
   ]
  },
  {
   "cell_type": "code",
   "execution_count": 29,
   "metadata": {},
   "outputs": [
    {
     "data": {
      "text/plain": [
       "0.7912726032143562"
      ]
     },
     "execution_count": 29,
     "metadata": {},
     "output_type": "execute_result"
    }
   ],
   "source": [
    "baseline_clf = linear_model.LogisticRegression(solver='liblinear')\n",
    "baseline_clf.fit(X_base, y_base)\n",
    "y_base_predict = baseline_clf.predict(X_base)\n",
    "\n",
    "baseline_cross_val = cross_val_score(baseline_clf, X_base, y_base, cv=5)\n",
    "baseline_cross_val.mean()"
   ]
  },
  {
   "cell_type": "code",
   "execution_count": 30,
   "metadata": {},
   "outputs": [
    {
     "data": {
      "text/plain": [
       "0.8002244668911336"
      ]
     },
     "execution_count": 30,
     "metadata": {},
     "output_type": "execute_result"
    }
   ],
   "source": [
    "# accuracy score\n",
    "SCORE_BASELINE = metrics.accuracy_score(y_base, y_base_predict)\n",
    "SCORE_BASELINE"
   ]
  },
  {
   "cell_type": "code",
   "execution_count": 31,
   "metadata": {},
   "outputs": [
    {
     "data": {
      "text/plain": [
       "0.695906432748538"
      ]
     },
     "execution_count": 31,
     "metadata": {},
     "output_type": "execute_result"
    }
   ],
   "source": [
    "# recall score\n",
    "baseline_recall = metrics.recall_score(y_base, y_base_predict)\n",
    "baseline_recall"
   ]
  },
  {
   "cell_type": "code",
   "execution_count": 32,
   "metadata": {},
   "outputs": [
    {
     "data": {
      "text/plain": [
       "array([[475,  74],\n",
       "       [104, 238]], dtype=int64)"
      ]
     },
     "execution_count": 32,
     "metadata": {},
     "output_type": "execute_result"
    }
   ],
   "source": [
    "# the confusion matrix will be \n",
    "baseline_confusion_mat = metrics.confusion_matrix(y_base, y_base_predict)\n",
    "baseline_confusion_mat"
   ]
  },
  {
   "cell_type": "code",
   "execution_count": 33,
   "metadata": {},
   "outputs": [
    {
     "data": {
      "text/plain": [
       "0.7805579522576934"
      ]
     },
     "execution_count": 33,
     "metadata": {},
     "output_type": "execute_result"
    }
   ],
   "source": [
    "# area under the curve score\n",
    "baseline_roc_score= metrics.roc_auc_score(y_base, y_base_predict)\n",
    "baseline_roc_score"
   ]
  },
  {
   "cell_type": "code",
   "execution_count": 34,
   "metadata": {},
   "outputs": [
    {
     "data": {
      "image/png": "[encoded data removed]",
      "text/plain": [
       "<Figure size 576x288 with 1 Axes>"
      ]
     },
     "metadata": {},
     "output_type": "display_data"
    }
   ],
   "source": [
    "# plot the precision-recall curve\n",
    "baseline_scores = cross_val_predict(baseline_clf, X_base, y_base, cv=5,\n",
    "                             method=\"decision_function\")\n",
    "\n",
    "if baseline_scores.ndim == 2:\n",
    "    baseline_scores = baseline_scores[:, 1]\n",
    "\n",
    "baseline_precisions, baseline_recalls, baseline_thresholds = metrics.precision_recall_curve(y_base, baseline_scores)\n",
    "\n",
    "plt.figure(figsize=(8, 4))\n",
    "plot_precision_recall_vs_threshold(baseline_precisions, \\\n",
    "                                   baseline_recalls, baseline_thresholds)\n",
    "plt.xlim([-5, 5])\n",
    "plt.show()"
   ]
  },
  {
   "cell_type": "markdown",
   "metadata": {},
   "source": [
    "The baseline model has a accuracy of 0.80. According to the confusion matrix, it failed to classify the negative terms.According to the precision and recall graph, the equilibrium betwenn precision and recall will be around 0.7."
   ]
  },
  {
   "cell_type": "markdown",
   "metadata": {},
   "source": [
    "## Experiment 1"
   ]
  },
  {
   "cell_type": "markdown",
   "metadata": {},
   "source": [
    "Stop cheating and encode the categorical features using one hot encoder"
   ]
  },
  {
   "cell_type": "code",
   "execution_count": 35,
   "metadata": {},
   "outputs": [],
   "source": [
    "num_attribs_1 = [\"Age\", \"SibSp\", \"Parch\", \"Fare\"]\n",
    "cat_attribs_1 = [\"Sex\", \"Pclass\", \"Embarked\"]"
   ]
  },
  {
   "cell_type": "code",
   "execution_count": 36,
   "metadata": {},
   "outputs": [],
   "source": [
    "# build numerical pipeline\n",
    "num_pipeline_1 = Pipeline([\n",
    "    (\"num_selector\", DataFrameSelector(num_attribs_1)),\n",
    "    (\"num_imputer\", SimpleImputer(strategy = \"median\")),\n",
    "    ])\n",
    "\n",
    "# build categorical pipeline\n",
    "cat_pipeline_1 = Pipeline([\n",
    "    (\"cat_selector\", DataFrameSelector(cat_attribs_1)),\n",
    "    (\"cat_imputer\",MostFrequentImputer()),\n",
    "    (\"cat_encoder\",OneHotEncoder(sparse = False)),\n",
    "    ])\n",
    "\n",
    "# Combine the pipelines together\n",
    "full_pipeline_1 = FeatureUnion(transformer_list=[\n",
    "    (\"num\", num_pipeline_1),\n",
    "    (\"cat\", cat_pipeline_1),\n",
    "    ])"
   ]
  },
  {
   "cell_type": "code",
   "execution_count": 37,
   "metadata": {},
   "outputs": [],
   "source": [
    "X_train_1 = full_pipeline_1.fit_transform(train_data)\n",
    "y_train_1 = train_data[\"Survived\"]"
   ]
  },
  {
   "cell_type": "code",
   "execution_count": 38,
   "metadata": {},
   "outputs": [
    {
     "data": {
      "text/plain": [
       "[0.001, 0.005, 0.01, 0.05, 0.1, 0.5, 1, 5, 10, 50, 100, 500, 1000]"
      ]
     },
     "execution_count": 38,
     "metadata": {},
     "output_type": "execute_result"
    }
   ],
   "source": [
    "# to test the best C value\n",
    "testlist = [0.001, 0.005,0.01,0.05, 0.1,0.5, 1,5,10,50,100,500,1000]\n",
    "testlist"
   ]
  },
  {
   "cell_type": "code",
   "execution_count": 39,
   "metadata": {},
   "outputs": [
    {
     "name": "stdout",
     "output_type": "stream",
     "text": [
      "C= 0.001 CV score is 0.6970274705146169 Accuracy is 0.7048260381593715\n",
      "C= 0.005 CV score is 0.7318405964705844 Accuracy is 0.7384960718294051\n",
      "C= 0.01 CV score is 0.7633208820382533 Accuracy is 0.7811447811447811\n",
      "C= 0.05 CV score is 0.7980017639630228 Accuracy is 0.8092031425364759\n",
      "C= 0.1 CV score is 0.7957545020244436 Accuracy is 0.8092031425364759\n",
      "C= 0.5 CV score is 0.7968907225971325 Accuracy is 0.8058361391694725\n",
      "C= 1 CV score is 0.7913041304183615 Accuracy is 0.8058361391694725\n",
      "C= 5 CV score is 0.7901868119826072 Accuracy is 0.8058361391694725\n",
      "C= 10 CV score is 0.7901868119826072 Accuracy is 0.8058361391694725\n",
      "C= 50 CV score is 0.7901868119826072 Accuracy is 0.8047138047138047\n",
      "C= 100 CV score is 0.7901868119826072 Accuracy is 0.8047138047138047\n",
      "C= 500 CV score is 0.7901868119826072 Accuracy is 0.8047138047138047\n",
      "C= 1000 CV score is 0.7901868119826072 Accuracy is 0.8047138047138047\n"
     ]
    }
   ],
   "source": [
    "for i in testlist:\n",
    "    experiment_1_clf = linear_model.LogisticRegression(solver='liblinear',C=i)\n",
    "    experiment_1_clf.fit(X_train_1, y_train_1)\n",
    "    y_train_1_predict = experiment_1_clf.predict(X_train_1)\n",
    "\n",
    "    experiment_1_cross_val = cross_val_score(experiment_1_clf, X_train_1, y_train_1, cv=5)\n",
    "    print(\"C=\", i, \"CV score is\", experiment_1_cross_val.mean(),\"Accuracy is\",\\\n",
    "          metrics.accuracy_score(y_train_1, y_train_1_predict))"
   ]
  },
  {
   "cell_type": "code",
   "execution_count": 40,
   "metadata": {},
   "outputs": [
    {
     "data": {
      "text/plain": [
       "0.7980017639630228"
      ]
     },
     "execution_count": 40,
     "metadata": {},
     "output_type": "execute_result"
    }
   ],
   "source": [
    "experiment_1_clf = linear_model.LogisticRegression(solver='liblinear',C=0.05)\n",
    "experiment_1_clf.fit(X_train_1, y_train_1)\n",
    "y_train_1_predict = experiment_1_clf.predict(X_train_1)\n",
    "\n",
    "experiment_1_cross_val = cross_val_score(experiment_1_clf, X_train_1, y_train_1, cv=5)\n",
    "experiment_1_cross_val.mean()"
   ]
  },
  {
   "cell_type": "code",
   "execution_count": 41,
   "metadata": {},
   "outputs": [
    {
     "data": {
      "text/plain": [
       "0.8092031425364759"
      ]
     },
     "execution_count": 41,
     "metadata": {},
     "output_type": "execute_result"
    }
   ],
   "source": [
    "# accuracy score\n",
    "SCORE_1 = metrics.accuracy_score(y_train_1, y_train_1_predict)\n",
    "SCORE_1"
   ]
  },
  {
   "cell_type": "code",
   "execution_count": 42,
   "metadata": {},
   "outputs": [
    {
     "data": {
      "text/plain": [
       "array([[488,  61],\n",
       "       [109, 233]], dtype=int64)"
      ]
     },
     "execution_count": 42,
     "metadata": {},
     "output_type": "execute_result"
    }
   ],
   "source": [
    "# the confusion matrix will be \n",
    "experiment_1_confusion_mat = metrics.confusion_matrix(y_train_1, y_train_1_predict)\n",
    "experiment_1_confusion_mat"
   ]
  },
  {
   "cell_type": "code",
   "execution_count": 43,
   "metadata": {},
   "outputs": [
    {
     "data": {
      "text/plain": [
       "0.7850877192982456"
      ]
     },
     "execution_count": 43,
     "metadata": {},
     "output_type": "execute_result"
    }
   ],
   "source": [
    "experiment_1_roc_score= metrics.roc_auc_score(y_train_1, y_train_1_predict)\n",
    "experiment_1_roc_score"
   ]
  },
  {
   "cell_type": "code",
   "execution_count": 44,
   "metadata": {},
   "outputs": [
    {
     "data": {
      "image/png": "[encoded data removed]",
      "text/plain": [
       "<Figure size 576x288 with 1 Axes>"
      ]
     },
     "metadata": {},
     "output_type": "display_data"
    }
   ],
   "source": [
    "# plot the precision-recall curve\n",
    "exp1_scores = cross_val_predict(experiment_1_clf, X_train_1, y_train_1, cv=5,\n",
    "                             method=\"decision_function\")\n",
    "\n",
    "if exp1_scores.ndim == 2:\n",
    "    exp1_scores = exp1_scores[:, 1]\n",
    "\n",
    "exp1_precisions, exp1_recalls, exp1_thresholds = metrics.precision_recall_curve(y_train_1, exp1_scores)\n",
    "\n",
    "plt.figure(figsize=(8, 4))\n",
    "plot_precision_recall_vs_threshold(exp1_precisions, exp1_recalls, exp1_thresholds)\n",
    "plt.xlim([-5, 5])\n",
    "plt.show()"
   ]
  },
  {
   "cell_type": "code",
   "execution_count": 45,
   "metadata": {},
   "outputs": [],
   "source": [
    "# generate the missclassified list for not survive but classified as survived\n",
    "MISCLASSIFIED_SURVIVE_1 = list()\n",
    "for i in range(len(y_train_1)):\n",
    "    if (y_train_1[i]==0) and (y_train_1_predict[i] == 1):\n",
    "        MISCLASSIFIED_SURVIVE_1.append(i)\n",
    "\n",
    "# generate the missclassified list for survived but classified as not survived\n",
    "MISCLASSIFIED_NOT_SURVIVE_1 = list()\n",
    "for i in range(len(y_train_1)):\n",
    "    if (y_train_1[i]==1) and (y_train_1_predict[i] == 0):\n",
    "        MISCLASSIFIED_NOT_SURVIVE_1.append(i)"
   ]
  },
  {
   "cell_type": "code",
   "execution_count": 46,
   "metadata": {},
   "outputs": [
    {
     "data": {
      "text/html": [
       "<div>\n",
       "<style scoped>\n",
       "    .dataframe tbody tr th:only-of-type {\n",
       "        vertical-align: middle;\n",
       "    }\n",
       "\n",
       "    .dataframe tbody tr th {\n",
       "        vertical-align: top;\n",
       "    }\n",
       "\n",
       "    .dataframe thead th {\n",
       "        text-align: right;\n",
       "    }\n",
       "</style>\n",
       "<table border=\"1\" class=\"dataframe\">\n",
       "  <thead>\n",
       "    <tr style=\"text-align: right;\">\n",
       "      <th></th>\n",
       "      <th>PassengerId</th>\n",
       "      <th>Survived</th>\n",
       "      <th>Pclass</th>\n",
       "      <th>Name</th>\n",
       "      <th>Sex</th>\n",
       "      <th>Age</th>\n",
       "      <th>SibSp</th>\n",
       "      <th>Parch</th>\n",
       "      <th>Ticket</th>\n",
       "      <th>Fare</th>\n",
       "      <th>Cabin</th>\n",
       "      <th>Embarked</th>\n",
       "    </tr>\n",
       "  </thead>\n",
       "  <tbody>\n",
       "    <tr>\n",
       "      <th>14</th>\n",
       "      <td>15</td>\n",
       "      <td>0</td>\n",
       "      <td>3</td>\n",
       "      <td>Vestrom, Miss. Hulda Amanda Adolfina</td>\n",
       "      <td>female</td>\n",
       "      <td>14.0</td>\n",
       "      <td>0</td>\n",
       "      <td>0</td>\n",
       "      <td>350406</td>\n",
       "      <td>7.8542</td>\n",
       "      <td>NaN</td>\n",
       "      <td>S</td>\n",
       "    </tr>\n",
       "    <tr>\n",
       "      <th>27</th>\n",
       "      <td>28</td>\n",
       "      <td>0</td>\n",
       "      <td>1</td>\n",
       "      <td>Fortune, Mr. Charles Alexander</td>\n",
       "      <td>male</td>\n",
       "      <td>19.0</td>\n",
       "      <td>3</td>\n",
       "      <td>2</td>\n",
       "      <td>19950</td>\n",
       "      <td>263.0000</td>\n",
       "      <td>C23 C25 C27</td>\n",
       "      <td>S</td>\n",
       "    </tr>\n",
       "    <tr>\n",
       "      <th>41</th>\n",
       "      <td>42</td>\n",
       "      <td>0</td>\n",
       "      <td>2</td>\n",
       "      <td>Turpin, Mrs. William John Robert (Dorothy Ann ...</td>\n",
       "      <td>female</td>\n",
       "      <td>27.0</td>\n",
       "      <td>1</td>\n",
       "      <td>0</td>\n",
       "      <td>11668</td>\n",
       "      <td>21.0000</td>\n",
       "      <td>NaN</td>\n",
       "      <td>S</td>\n",
       "    </tr>\n",
       "    <tr>\n",
       "      <th>49</th>\n",
       "      <td>50</td>\n",
       "      <td>0</td>\n",
       "      <td>3</td>\n",
       "      <td>Arnold-Franchi, Mrs. Josef (Josefine Franchi)</td>\n",
       "      <td>female</td>\n",
       "      <td>18.0</td>\n",
       "      <td>1</td>\n",
       "      <td>0</td>\n",
       "      <td>349237</td>\n",
       "      <td>17.8000</td>\n",
       "      <td>NaN</td>\n",
       "      <td>S</td>\n",
       "    </tr>\n",
       "    <tr>\n",
       "      <th>100</th>\n",
       "      <td>101</td>\n",
       "      <td>0</td>\n",
       "      <td>3</td>\n",
       "      <td>Petranec, Miss. Matilda</td>\n",
       "      <td>female</td>\n",
       "      <td>28.0</td>\n",
       "      <td>0</td>\n",
       "      <td>0</td>\n",
       "      <td>349245</td>\n",
       "      <td>7.8958</td>\n",
       "      <td>NaN</td>\n",
       "      <td>S</td>\n",
       "    </tr>\n",
       "  </tbody>\n",
       "</table>\n",
       "</div>"
      ],
      "text/plain": [
       "     PassengerId  Survived  Pclass  \\\n",
       "14            15         0       3   \n",
       "27            28         0       1   \n",
       "41            42         0       2   \n",
       "49            50         0       3   \n",
       "100          101         0       3   \n",
       "\n",
       "                                                  Name     Sex   Age  SibSp  \\\n",
       "14                Vestrom, Miss. Hulda Amanda Adolfina  female  14.0      0   \n",
       "27                      Fortune, Mr. Charles Alexander    male  19.0      3   \n",
       "41   Turpin, Mrs. William John Robert (Dorothy Ann ...  female  27.0      1   \n",
       "49       Arnold-Franchi, Mrs. Josef (Josefine Franchi)  female  18.0      1   \n",
       "100                            Petranec, Miss. Matilda  female  28.0      0   \n",
       "\n",
       "     Parch  Ticket      Fare        Cabin Embarked  \n",
       "14       0  350406    7.8542          NaN        S  \n",
       "27       2   19950  263.0000  C23 C25 C27        S  \n",
       "41       0   11668   21.0000          NaN        S  \n",
       "49       0  349237   17.8000          NaN        S  \n",
       "100      0  349245    7.8958          NaN        S  "
      ]
     },
     "execution_count": 46,
     "metadata": {},
     "output_type": "execute_result"
    }
   ],
   "source": [
    "train_data.loc[MISCLASSIFIED_SURVIVE_1].head()"
   ]
  },
  {
   "cell_type": "code",
   "execution_count": 47,
   "metadata": {},
   "outputs": [
    {
     "data": {
      "text/html": [
       "<div>\n",
       "<style scoped>\n",
       "    .dataframe tbody tr th:only-of-type {\n",
       "        vertical-align: middle;\n",
       "    }\n",
       "\n",
       "    .dataframe tbody tr th {\n",
       "        vertical-align: top;\n",
       "    }\n",
       "\n",
       "    .dataframe thead th {\n",
       "        text-align: right;\n",
       "    }\n",
       "</style>\n",
       "<table border=\"1\" class=\"dataframe\">\n",
       "  <thead>\n",
       "    <tr style=\"text-align: right;\">\n",
       "      <th></th>\n",
       "      <th>PassengerId</th>\n",
       "      <th>Survived</th>\n",
       "      <th>Pclass</th>\n",
       "      <th>Name</th>\n",
       "      <th>Sex</th>\n",
       "      <th>Age</th>\n",
       "      <th>SibSp</th>\n",
       "      <th>Parch</th>\n",
       "      <th>Ticket</th>\n",
       "      <th>Fare</th>\n",
       "      <th>Cabin</th>\n",
       "      <th>Embarked</th>\n",
       "    </tr>\n",
       "  </thead>\n",
       "  <tbody>\n",
       "    <tr>\n",
       "      <th>17</th>\n",
       "      <td>18</td>\n",
       "      <td>1</td>\n",
       "      <td>2</td>\n",
       "      <td>Williams, Mr. Charles Eugene</td>\n",
       "      <td>male</td>\n",
       "      <td>NaN</td>\n",
       "      <td>0</td>\n",
       "      <td>0</td>\n",
       "      <td>244373</td>\n",
       "      <td>13.0000</td>\n",
       "      <td>NaN</td>\n",
       "      <td>S</td>\n",
       "    </tr>\n",
       "    <tr>\n",
       "      <th>21</th>\n",
       "      <td>22</td>\n",
       "      <td>1</td>\n",
       "      <td>2</td>\n",
       "      <td>Beesley, Mr. Lawrence</td>\n",
       "      <td>male</td>\n",
       "      <td>34.0</td>\n",
       "      <td>0</td>\n",
       "      <td>0</td>\n",
       "      <td>248698</td>\n",
       "      <td>13.0000</td>\n",
       "      <td>D56</td>\n",
       "      <td>S</td>\n",
       "    </tr>\n",
       "    <tr>\n",
       "      <th>23</th>\n",
       "      <td>24</td>\n",
       "      <td>1</td>\n",
       "      <td>1</td>\n",
       "      <td>Sloper, Mr. William Thompson</td>\n",
       "      <td>male</td>\n",
       "      <td>28.0</td>\n",
       "      <td>0</td>\n",
       "      <td>0</td>\n",
       "      <td>113788</td>\n",
       "      <td>35.5000</td>\n",
       "      <td>A6</td>\n",
       "      <td>S</td>\n",
       "    </tr>\n",
       "    <tr>\n",
       "      <th>25</th>\n",
       "      <td>26</td>\n",
       "      <td>1</td>\n",
       "      <td>3</td>\n",
       "      <td>Asplund, Mrs. Carl Oscar (Selma Augusta Emilia...</td>\n",
       "      <td>female</td>\n",
       "      <td>38.0</td>\n",
       "      <td>1</td>\n",
       "      <td>5</td>\n",
       "      <td>347077</td>\n",
       "      <td>31.3875</td>\n",
       "      <td>NaN</td>\n",
       "      <td>S</td>\n",
       "    </tr>\n",
       "    <tr>\n",
       "      <th>36</th>\n",
       "      <td>37</td>\n",
       "      <td>1</td>\n",
       "      <td>3</td>\n",
       "      <td>Mamee, Mr. Hanna</td>\n",
       "      <td>male</td>\n",
       "      <td>NaN</td>\n",
       "      <td>0</td>\n",
       "      <td>0</td>\n",
       "      <td>2677</td>\n",
       "      <td>7.2292</td>\n",
       "      <td>NaN</td>\n",
       "      <td>C</td>\n",
       "    </tr>\n",
       "  </tbody>\n",
       "</table>\n",
       "</div>"
      ],
      "text/plain": [
       "    PassengerId  Survived  Pclass  \\\n",
       "17           18         1       2   \n",
       "21           22         1       2   \n",
       "23           24         1       1   \n",
       "25           26         1       3   \n",
       "36           37         1       3   \n",
       "\n",
       "                                                 Name     Sex   Age  SibSp  \\\n",
       "17                       Williams, Mr. Charles Eugene    male   NaN      0   \n",
       "21                              Beesley, Mr. Lawrence    male  34.0      0   \n",
       "23                       Sloper, Mr. William Thompson    male  28.0      0   \n",
       "25  Asplund, Mrs. Carl Oscar (Selma Augusta Emilia...  female  38.0      1   \n",
       "36                                   Mamee, Mr. Hanna    male   NaN      0   \n",
       "\n",
       "    Parch  Ticket     Fare Cabin Embarked  \n",
       "17      0  244373  13.0000   NaN        S  \n",
       "21      0  248698  13.0000   D56        S  \n",
       "23      0  113788  35.5000    A6        S  \n",
       "25      5  347077  31.3875   NaN        S  \n",
       "36      0    2677   7.2292   NaN        C  "
      ]
     },
     "execution_count": 47,
     "metadata": {},
     "output_type": "execute_result"
    }
   ],
   "source": [
    "train_data.loc[MISCLASSIFIED_NOT_SURVIVE_1].head()"
   ]
  },
  {
   "cell_type": "markdown",
   "metadata": {},
   "source": [
    "The experiment 1 doesn't change significantly from our baseline model. Hence we will continue enhancing."
   ]
  },
  {
   "cell_type": "markdown",
   "metadata": {},
   "source": [
    "## Experiment 2"
   ]
  },
  {
   "cell_type": "markdown",
   "metadata": {},
   "source": [
    "Since there are too many age missing in the dataset, it's better to use the <span style=\"color:blue\">distribution of age</span> to fill in the missing values.In this experiment, we also add a scaler for the numerical attributes."
   ]
  },
  {
   "cell_type": "code",
   "execution_count": 48,
   "metadata": {},
   "outputs": [],
   "source": [
    "experiment_data = train_data.copy()\n",
    "\n",
    "# to make sure the missing value genetated won't change every time you run the program\n",
    "np.random.seed(42)"
   ]
  },
  {
   "cell_type": "code",
   "execution_count": 49,
   "metadata": {},
   "outputs": [],
   "source": [
    "# Fill in the missing age data according to its population\n",
    "age_dist = experiment_data[\"Age\"].value_counts(normalize=True)\n",
    "age_missing = experiment_data[\"Age\"].isnull()\n",
    "experiment_data.loc[age_missing,'Age'] = np.random.choice(age_dist.index, \\\n",
    "                                                          size=len(experiment_data[age_missing]),\\\n",
    "                                                          p=age_dist.values)"
   ]
  },
  {
   "cell_type": "code",
   "execution_count": 50,
   "metadata": {},
   "outputs": [
    {
     "data": {
      "image/png": "[encoded data removed]",
      "text/plain": [
       "<Figure size 720x360 with 1 Axes>"
      ]
     },
     "metadata": {},
     "output_type": "display_data"
    }
   ],
   "source": [
    "%matplotlib inline \n",
    "\n",
    "experiment_data['Age'] = experiment_data['Age'].astype(int)\n",
    "experiment_data[\"Age\"].hist(bins=50, figsize=(10,5))\n",
    "plt.show()"
   ]
  },
  {
   "cell_type": "code",
   "execution_count": 51,
   "metadata": {},
   "outputs": [
    {
     "data": {
      "text/plain": [
       "3    138\n",
       "1    137\n",
       "4    135\n",
       "6    128\n",
       "2    123\n",
       "0    119\n",
       "5    111\n",
       "Name: Age, dtype: int64"
      ]
     },
     "execution_count": 51,
     "metadata": {},
     "output_type": "execute_result"
    }
   ],
   "source": [
    "# convert age into relatively balanced buckets\n",
    "experiment_data.loc[ experiment_data['Age'] <= 16, 'Age'] = 0\n",
    "experiment_data.loc[(experiment_data['Age'] > 16) & (experiment_data['Age'] <= 21), 'Age'] = 1\n",
    "experiment_data.loc[(experiment_data['Age'] > 21) & (experiment_data['Age'] <= 25), 'Age'] = 2\n",
    "experiment_data.loc[(experiment_data['Age'] > 25) & (experiment_data['Age'] <= 30), 'Age'] = 3\n",
    "experiment_data.loc[(experiment_data['Age'] > 30) & (experiment_data['Age'] <= 36), 'Age'] = 4\n",
    "experiment_data.loc[(experiment_data['Age'] > 36) & (experiment_data['Age'] <= 45), 'Age'] = 5\n",
    "experiment_data.loc[experiment_data['Age'] > 45, 'Age'] = 6\n",
    "\n",
    "# see how it's distributed \n",
    "experiment_data['Age'] = experiment_data['Age'].astype(int)\n",
    "experiment_data['Age'].value_counts()"
   ]
  },
  {
   "cell_type": "markdown",
   "metadata": {},
   "source": [
    "Since we don't want all the people fall into one certain category, the results seem to be balanced."
   ]
  },
  {
   "cell_type": "code",
   "execution_count": 52,
   "metadata": {},
   "outputs": [],
   "source": [
    "num_attribs_2=[\"SibSp\", \"Parch\",\"Fare\"]\n",
    "cat_attribs_2 = [\"Sex\", \"Pclass\", \"Embarked\",\"Age\"]\n",
    "\n",
    "# to keep the new attributes as originally encoded\n",
    "age_attribs = [ \"Age\"]\n",
    "\n",
    "num_pipeline_2 = Pipeline([\n",
    "    (\"num_selector\", DataFrameSelector(num_attribs_2)),\n",
    "    (\"num_imputer\", SimpleImputer(strategy = \"median\")),\n",
    "    ('std_scaler', StandardScaler()),\n",
    "    ])\n",
    "\n",
    "cat_pipeline_2 = Pipeline([\n",
    "    (\"cat_selector\", DataFrameSelector(cat_attribs_2)),\n",
    "    (\"cat_imputer\",MostFrequentImputer()),\n",
    "    (\"cat_encoder\",OneHotEncoder(sparse=False)),\n",
    "    ])\n",
    "\n",
    "age_pipeline = Pipeline([\n",
    "    (\"cat_selector\", DataFrameSelector(age_attribs)),\n",
    "    (\"cat_imputer\",MostFrequentImputer()),\n",
    "    (\"cat_encoder\",OrdinalEncoder()),\n",
    "    ])\n",
    "\n",
    "full_pipeline_2 = FeatureUnion(transformer_list=[\n",
    "    (\"num\", num_pipeline_2),\n",
    "    (\"cat\", cat_pipeline_2),\n",
    "    (\"age\", age_pipeline),\n",
    "])"
   ]
  },
  {
   "cell_type": "code",
   "execution_count": 53,
   "metadata": {},
   "outputs": [],
   "source": [
    "X_train_2 = full_pipeline_2.fit_transform(experiment_data)\n",
    "y_train_2 = experiment_data[\"Survived\"]"
   ]
  },
  {
   "cell_type": "code",
   "execution_count": 54,
   "metadata": {},
   "outputs": [
    {
     "name": "stdout",
     "output_type": "stream",
     "text": [
      "C= 0.001 CV score is 0.6577134726842843 Accuracy is 0.6677890011223344\n",
      "C= 0.005 CV score is 0.7464098884064648 Accuracy is 0.7789001122334456\n",
      "C= 0.01 CV score is 0.7823404037255296 Accuracy is 0.8047138047138047\n",
      "C= 0.05 CV score is 0.7946435315858964 Accuracy is 0.8125701459034792\n",
      "C= 0.1 CV score is 0.7912663970718355 Accuracy is 0.8080808080808081\n",
      "C= 0.5 CV score is 0.7923899925774535 Accuracy is 0.8047138047138047\n",
      "C= 1 CV score is 0.7923773675103829 Accuracy is 0.8013468013468014\n",
      "C= 5 CV score is 0.7946181395970688 Accuracy is 0.8069584736251403\n",
      "C= 10 CV score is 0.7946181395970688 Accuracy is 0.8080808080808081\n",
      "C= 50 CV score is 0.7957480830998936 Accuracy is 0.8080808080808081\n",
      "C= 100 CV score is 0.7957480830998936 Accuracy is 0.8080808080808081\n",
      "C= 500 CV score is 0.7957480830998936 Accuracy is 0.8080808080808081\n",
      "C= 1000 CV score is 0.7957480830998936 Accuracy is 0.8080808080808081\n"
     ]
    }
   ],
   "source": [
    "# Check for a best C value\n",
    "for i in testlist:\n",
    "    experiment_2_clf = linear_model.LogisticRegression(solver='liblinear',C=i)\n",
    "    experiment_2_clf.fit(X_train_2, y_train_2)\n",
    "    y_train_2_predict = experiment_2_clf.predict(X_train_2)\n",
    "\n",
    "    experiment_2_cross_val = cross_val_score(experiment_2_clf, X_train_2, y_train_2, cv=5)\n",
    "    print(\"C=\", i, \"CV score is\", experiment_2_cross_val.mean(),\"Accuracy is\", metrics.accuracy_score(y_train_2, y_train_2_predict))"
   ]
  },
  {
   "cell_type": "code",
   "execution_count": 55,
   "metadata": {},
   "outputs": [
    {
     "data": {
      "text/plain": [
       "0.7946435315858964"
      ]
     },
     "execution_count": 55,
     "metadata": {},
     "output_type": "execute_result"
    }
   ],
   "source": [
    "# Use the best C value to generate the result\n",
    "experiment_2_clf = linear_model.LogisticRegression(solver='liblinear',C=0.05)\n",
    "experiment_2_clf.fit(X_train_2, y_train_2)\n",
    "y_train_2_predict = experiment_2_clf.predict(X_train_2)\n",
    "\n",
    "experiment_2_cross_val = cross_val_score(experiment_2_clf, X_train_2, y_train_2, cv=5)\n",
    "experiment_2_cross_val.mean()"
   ]
  },
  {
   "cell_type": "code",
   "execution_count": 56,
   "metadata": {},
   "outputs": [
    {
     "data": {
      "text/plain": [
       "0.8125701459034792"
      ]
     },
     "execution_count": 56,
     "metadata": {},
     "output_type": "execute_result"
    }
   ],
   "source": [
    "SCORE_2 = metrics.accuracy_score(y_train_2, y_train_2_predict)\n",
    "SCORE_2"
   ]
  },
  {
   "cell_type": "code",
   "execution_count": 57,
   "metadata": {},
   "outputs": [
    {
     "data": {
      "text/plain": [
       "array([[493,  56],\n",
       "       [111, 231]], dtype=int64)"
      ]
     },
     "execution_count": 57,
     "metadata": {},
     "output_type": "execute_result"
    }
   ],
   "source": [
    "# the confusion matrix will be \n",
    "experiment_2_confusion_mat = metrics.confusion_matrix(y_train_2, y_train_2_predict)\n",
    "experiment_2_confusion_mat"
   ]
  },
  {
   "cell_type": "code",
   "execution_count": 58,
   "metadata": {},
   "outputs": [
    {
     "data": {
      "text/plain": [
       "0.7867174767519893"
      ]
     },
     "execution_count": 58,
     "metadata": {},
     "output_type": "execute_result"
    }
   ],
   "source": [
    "experiment_2_roc_score= metrics.roc_auc_score(y_train_2, y_train_2_predict)\n",
    "experiment_2_roc_score"
   ]
  },
  {
   "cell_type": "code",
   "execution_count": 59,
   "metadata": {},
   "outputs": [
    {
     "data": {
      "image/png": "[encoded data removed]",
      "text/plain": [
       "<Figure size 576x288 with 1 Axes>"
      ]
     },
     "metadata": {},
     "output_type": "display_data"
    }
   ],
   "source": [
    "# plot the precision-recall curve\n",
    "exp2_scores = cross_val_predict(experiment_2_clf, X_train_2, y_train_2, cv=5,\n",
    "                             method=\"decision_function\")\n",
    "\n",
    "if exp2_scores.ndim == 2:\n",
    "    exp2_scores = exp2_scores[:, 1]\n",
    "\n",
    "exp2_precisions, exp2_recalls, exp2_thresholds = metrics.precision_recall_curve(y_train_2, exp2_scores)\n",
    "\n",
    "plt.figure(figsize=(8, 4))\n",
    "plot_precision_recall_vs_threshold(exp2_precisions, exp2_recalls, exp2_thresholds)\n",
    "plt.xlim([-5, 5])\n",
    "plt.show()"
   ]
  },
  {
   "cell_type": "code",
   "execution_count": 60,
   "metadata": {},
   "outputs": [],
   "source": [
    "# generate the missclassified list for not survive but classified as survived\n",
    "MISCLASSIFIED_SURVIVE_2 = list()\n",
    "for i in range(len(y_train_2)):\n",
    "    if (y_train_2[i]==0) and (y_train_2_predict[i] == 1):\n",
    "        MISCLASSIFIED_SURVIVE_2.append(i)\n",
    "\n",
    "# generate the missclassified list for survived but classified as not survived\n",
    "MISCLASSIFIED_NOT_SURVIVE_2 = list()\n",
    "for i in range(len(y_train_2)):\n",
    "    if (y_train_2[i]==1) and (y_train_2_predict[i] == 0):\n",
    "        MISCLASSIFIED_NOT_SURVIVE_2.append(i)"
   ]
  },
  {
   "cell_type": "code",
   "execution_count": 61,
   "metadata": {},
   "outputs": [
    {
     "data": {
      "text/html": [
       "<div>\n",
       "<style scoped>\n",
       "    .dataframe tbody tr th:only-of-type {\n",
       "        vertical-align: middle;\n",
       "    }\n",
       "\n",
       "    .dataframe tbody tr th {\n",
       "        vertical-align: top;\n",
       "    }\n",
       "\n",
       "    .dataframe thead th {\n",
       "        text-align: right;\n",
       "    }\n",
       "</style>\n",
       "<table border=\"1\" class=\"dataframe\">\n",
       "  <thead>\n",
       "    <tr style=\"text-align: right;\">\n",
       "      <th></th>\n",
       "      <th>PassengerId</th>\n",
       "      <th>Survived</th>\n",
       "      <th>Pclass</th>\n",
       "      <th>Name</th>\n",
       "      <th>Sex</th>\n",
       "      <th>Age</th>\n",
       "      <th>SibSp</th>\n",
       "      <th>Parch</th>\n",
       "      <th>Ticket</th>\n",
       "      <th>Fare</th>\n",
       "      <th>Cabin</th>\n",
       "      <th>Embarked</th>\n",
       "    </tr>\n",
       "  </thead>\n",
       "  <tbody>\n",
       "    <tr>\n",
       "      <th>14</th>\n",
       "      <td>15</td>\n",
       "      <td>0</td>\n",
       "      <td>3</td>\n",
       "      <td>Vestrom, Miss. Hulda Amanda Adolfina</td>\n",
       "      <td>female</td>\n",
       "      <td>14.0</td>\n",
       "      <td>0</td>\n",
       "      <td>0</td>\n",
       "      <td>350406</td>\n",
       "      <td>7.8542</td>\n",
       "      <td>NaN</td>\n",
       "      <td>S</td>\n",
       "    </tr>\n",
       "    <tr>\n",
       "      <th>18</th>\n",
       "      <td>19</td>\n",
       "      <td>0</td>\n",
       "      <td>3</td>\n",
       "      <td>Vander Planke, Mrs. Julius (Emelia Maria Vande...</td>\n",
       "      <td>female</td>\n",
       "      <td>31.0</td>\n",
       "      <td>1</td>\n",
       "      <td>0</td>\n",
       "      <td>345763</td>\n",
       "      <td>18.0000</td>\n",
       "      <td>NaN</td>\n",
       "      <td>S</td>\n",
       "    </tr>\n",
       "    <tr>\n",
       "      <th>24</th>\n",
       "      <td>25</td>\n",
       "      <td>0</td>\n",
       "      <td>3</td>\n",
       "      <td>Palsson, Miss. Torborg Danira</td>\n",
       "      <td>female</td>\n",
       "      <td>8.0</td>\n",
       "      <td>3</td>\n",
       "      <td>1</td>\n",
       "      <td>349909</td>\n",
       "      <td>21.0750</td>\n",
       "      <td>NaN</td>\n",
       "      <td>S</td>\n",
       "    </tr>\n",
       "    <tr>\n",
       "      <th>41</th>\n",
       "      <td>42</td>\n",
       "      <td>0</td>\n",
       "      <td>2</td>\n",
       "      <td>Turpin, Mrs. William John Robert (Dorothy Ann ...</td>\n",
       "      <td>female</td>\n",
       "      <td>27.0</td>\n",
       "      <td>1</td>\n",
       "      <td>0</td>\n",
       "      <td>11668</td>\n",
       "      <td>21.0000</td>\n",
       "      <td>NaN</td>\n",
       "      <td>S</td>\n",
       "    </tr>\n",
       "    <tr>\n",
       "      <th>100</th>\n",
       "      <td>101</td>\n",
       "      <td>0</td>\n",
       "      <td>3</td>\n",
       "      <td>Petranec, Miss. Matilda</td>\n",
       "      <td>female</td>\n",
       "      <td>28.0</td>\n",
       "      <td>0</td>\n",
       "      <td>0</td>\n",
       "      <td>349245</td>\n",
       "      <td>7.8958</td>\n",
       "      <td>NaN</td>\n",
       "      <td>S</td>\n",
       "    </tr>\n",
       "  </tbody>\n",
       "</table>\n",
       "</div>"
      ],
      "text/plain": [
       "     PassengerId  Survived  Pclass  \\\n",
       "14            15         0       3   \n",
       "18            19         0       3   \n",
       "24            25         0       3   \n",
       "41            42         0       2   \n",
       "100          101         0       3   \n",
       "\n",
       "                                                  Name     Sex   Age  SibSp  \\\n",
       "14                Vestrom, Miss. Hulda Amanda Adolfina  female  14.0      0   \n",
       "18   Vander Planke, Mrs. Julius (Emelia Maria Vande...  female  31.0      1   \n",
       "24                       Palsson, Miss. Torborg Danira  female   8.0      3   \n",
       "41   Turpin, Mrs. William John Robert (Dorothy Ann ...  female  27.0      1   \n",
       "100                            Petranec, Miss. Matilda  female  28.0      0   \n",
       "\n",
       "     Parch  Ticket     Fare Cabin Embarked  \n",
       "14       0  350406   7.8542   NaN        S  \n",
       "18       0  345763  18.0000   NaN        S  \n",
       "24       1  349909  21.0750   NaN        S  \n",
       "41       0   11668  21.0000   NaN        S  \n",
       "100      0  349245   7.8958   NaN        S  "
      ]
     },
     "execution_count": 61,
     "metadata": {},
     "output_type": "execute_result"
    }
   ],
   "source": [
    "train_data.loc[MISCLASSIFIED_SURVIVE_2].head()"
   ]
  },
  {
   "cell_type": "code",
   "execution_count": 62,
   "metadata": {},
   "outputs": [
    {
     "data": {
      "text/html": [
       "<div>\n",
       "<style scoped>\n",
       "    .dataframe tbody tr th:only-of-type {\n",
       "        vertical-align: middle;\n",
       "    }\n",
       "\n",
       "    .dataframe tbody tr th {\n",
       "        vertical-align: top;\n",
       "    }\n",
       "\n",
       "    .dataframe thead th {\n",
       "        text-align: right;\n",
       "    }\n",
       "</style>\n",
       "<table border=\"1\" class=\"dataframe\">\n",
       "  <thead>\n",
       "    <tr style=\"text-align: right;\">\n",
       "      <th></th>\n",
       "      <th>PassengerId</th>\n",
       "      <th>Survived</th>\n",
       "      <th>Pclass</th>\n",
       "      <th>Name</th>\n",
       "      <th>Sex</th>\n",
       "      <th>Age</th>\n",
       "      <th>SibSp</th>\n",
       "      <th>Parch</th>\n",
       "      <th>Ticket</th>\n",
       "      <th>Fare</th>\n",
       "      <th>Cabin</th>\n",
       "      <th>Embarked</th>\n",
       "    </tr>\n",
       "  </thead>\n",
       "  <tbody>\n",
       "    <tr>\n",
       "      <th>17</th>\n",
       "      <td>18</td>\n",
       "      <td>1</td>\n",
       "      <td>2</td>\n",
       "      <td>Williams, Mr. Charles Eugene</td>\n",
       "      <td>male</td>\n",
       "      <td>NaN</td>\n",
       "      <td>0</td>\n",
       "      <td>0</td>\n",
       "      <td>244373</td>\n",
       "      <td>13.0000</td>\n",
       "      <td>NaN</td>\n",
       "      <td>S</td>\n",
       "    </tr>\n",
       "    <tr>\n",
       "      <th>21</th>\n",
       "      <td>22</td>\n",
       "      <td>1</td>\n",
       "      <td>2</td>\n",
       "      <td>Beesley, Mr. Lawrence</td>\n",
       "      <td>male</td>\n",
       "      <td>34.0</td>\n",
       "      <td>0</td>\n",
       "      <td>0</td>\n",
       "      <td>248698</td>\n",
       "      <td>13.0000</td>\n",
       "      <td>D56</td>\n",
       "      <td>S</td>\n",
       "    </tr>\n",
       "    <tr>\n",
       "      <th>23</th>\n",
       "      <td>24</td>\n",
       "      <td>1</td>\n",
       "      <td>1</td>\n",
       "      <td>Sloper, Mr. William Thompson</td>\n",
       "      <td>male</td>\n",
       "      <td>28.0</td>\n",
       "      <td>0</td>\n",
       "      <td>0</td>\n",
       "      <td>113788</td>\n",
       "      <td>35.5000</td>\n",
       "      <td>A6</td>\n",
       "      <td>S</td>\n",
       "    </tr>\n",
       "    <tr>\n",
       "      <th>25</th>\n",
       "      <td>26</td>\n",
       "      <td>1</td>\n",
       "      <td>3</td>\n",
       "      <td>Asplund, Mrs. Carl Oscar (Selma Augusta Emilia...</td>\n",
       "      <td>female</td>\n",
       "      <td>38.0</td>\n",
       "      <td>1</td>\n",
       "      <td>5</td>\n",
       "      <td>347077</td>\n",
       "      <td>31.3875</td>\n",
       "      <td>NaN</td>\n",
       "      <td>S</td>\n",
       "    </tr>\n",
       "    <tr>\n",
       "      <th>36</th>\n",
       "      <td>37</td>\n",
       "      <td>1</td>\n",
       "      <td>3</td>\n",
       "      <td>Mamee, Mr. Hanna</td>\n",
       "      <td>male</td>\n",
       "      <td>NaN</td>\n",
       "      <td>0</td>\n",
       "      <td>0</td>\n",
       "      <td>2677</td>\n",
       "      <td>7.2292</td>\n",
       "      <td>NaN</td>\n",
       "      <td>C</td>\n",
       "    </tr>\n",
       "  </tbody>\n",
       "</table>\n",
       "</div>"
      ],
      "text/plain": [
       "    PassengerId  Survived  Pclass  \\\n",
       "17           18         1       2   \n",
       "21           22         1       2   \n",
       "23           24         1       1   \n",
       "25           26         1       3   \n",
       "36           37         1       3   \n",
       "\n",
       "                                                 Name     Sex   Age  SibSp  \\\n",
       "17                       Williams, Mr. Charles Eugene    male   NaN      0   \n",
       "21                              Beesley, Mr. Lawrence    male  34.0      0   \n",
       "23                       Sloper, Mr. William Thompson    male  28.0      0   \n",
       "25  Asplund, Mrs. Carl Oscar (Selma Augusta Emilia...  female  38.0      1   \n",
       "36                                   Mamee, Mr. Hanna    male   NaN      0   \n",
       "\n",
       "    Parch  Ticket     Fare Cabin Embarked  \n",
       "17      0  244373  13.0000   NaN        S  \n",
       "21      0  248698  13.0000   D56        S  \n",
       "23      0  113788  35.5000    A6        S  \n",
       "25      5  347077  31.3875   NaN        S  \n",
       "36      0    2677   7.2292   NaN        C  "
      ]
     },
     "execution_count": 62,
     "metadata": {},
     "output_type": "execute_result"
    }
   ],
   "source": [
    "train_data.loc[MISCLASSIFIED_NOT_SURVIVE_2].head()"
   ]
  },
  {
   "cell_type": "markdown",
   "metadata": {},
   "source": [
    "The experiment 2 model has increased the accuracy to 0.81. According to the confusion matrix, it also failed to classify the negative terms. But the overall equilibrium is higher, around 0.73 this case."
   ]
  },
  {
   "cell_type": "markdown",
   "metadata": {},
   "source": [
    "## Extra Credit (Experiment 3)"
   ]
  },
  {
   "cell_type": "markdown",
   "metadata": {},
   "source": [
    "In this part, we will try to do some feature engineering and change the way we treat our data."
   ]
  },
  {
   "cell_type": "code",
   "execution_count": 63,
   "metadata": {},
   "outputs": [],
   "source": [
    "challenge_data = train_data.copy()"
   ]
  },
  {
   "cell_type": "markdown",
   "metadata": {},
   "source": [
    "**Step 1: Data cleaning**\n",
    "\n",
    "First, we will try to fill the missing ages according to their titles (eg, Mr, Mrs...)"
   ]
  },
  {
   "cell_type": "code",
   "execution_count": 64,
   "metadata": {},
   "outputs": [
    {
     "data": {
      "text/plain": [
       "<matplotlib.axes._subplots.AxesSubplot at 0x1a43bf1bc50>"
      ]
     },
     "execution_count": 64,
     "metadata": {},
     "output_type": "execute_result"
    },
    {
     "data": {
      "image/png": "[encoded data removed]",
      "text/plain": [
       "<Figure size 432x288 with 1 Axes>"
      ]
     },
     "metadata": {},
     "output_type": "display_data"
    }
   ],
   "source": [
    "# Get the Title of people\n",
    "challenge_data['Title'] = train_data['Name'].str.extract(' ([A-Za-z]+)\\.', expand=False)\n",
    "\n",
    "#Plotting the various titles extracted from the names    \n",
    "sns.countplot(y='Title',data=challenge_data)  "
   ]
  },
  {
   "cell_type": "code",
   "execution_count": 65,
   "metadata": {},
   "outputs": [
    {
     "data": {
      "text/plain": [
       "<matplotlib.axes._subplots.AxesSubplot at 0x1a43bfab978>"
      ]
     },
     "execution_count": 65,
     "metadata": {},
     "output_type": "execute_result"
    },
    {
     "data": {
      "image/png": "[encoded data removed]",
      "text/plain": [
       "<Figure size 432x288 with 1 Axes>"
      ]
     },
     "metadata": {},
     "output_type": "display_data"
    }
   ],
   "source": [
    "# Refine the categories\n",
    "challenge_data['Title'] = challenge_data['Title'].replace(['Lady', 'Countess','Capt', 'Col',\\\n",
    " \t'Don', 'Dr', 'Major', 'Rev', 'Sir', 'Jonkheer', 'Dona'], 'Rare')\n",
    "\n",
    "challenge_data['Title'] = challenge_data['Title'].replace({'Mlle':'Miss','Ms':'Miss','Mme':'Mrs'})\n",
    "\n",
    "# Now plot the results \n",
    "sns.countplot(y='Title',data=challenge_data)  "
   ]
  },
  {
   "cell_type": "code",
   "execution_count": 66,
   "metadata": {},
   "outputs": [],
   "source": [
    "# label titles with number\n",
    "title_map = {\"Mr\": 1, \"Miss\": 2, \"Mrs\": 3, \"Master\": 4, \"Rare\": 5}\n",
    "challenge_data['Title'] = challenge_data['Title'].map(title_map)\n",
    "challenge_data['Title'] = challenge_data['Title'].fillna(0)"
   ]
  },
  {
   "cell_type": "code",
   "execution_count": 67,
   "metadata": {},
   "outputs": [
    {
     "data": {
      "image/png": "[encoded data removed]",
      "text/plain": [
       "<Figure size 720x360 with 1 Axes>"
      ]
     },
     "metadata": {},
     "output_type": "display_data"
    }
   ],
   "source": [
    "# Fill in the ages according to their titles\n",
    "challenge_data['Age'] = challenge_data.groupby(['Title'])['Age'].transform(lambda x: x.fillna(x.mean()))    \n",
    "\n",
    "%matplotlib inline \n",
    "challenge_data[\"Age\"].hist(bins=50, figsize=(10,5))\n",
    "plt.show()"
   ]
  },
  {
   "cell_type": "code",
   "execution_count": 68,
   "metadata": {},
   "outputs": [
    {
     "data": {
      "text/plain": [
       "2    200\n",
       "3    185\n",
       "4    182\n",
       "1    164\n",
       "5    160\n",
       "Name: Fare, dtype: int64"
      ]
     },
     "execution_count": 68,
     "metadata": {},
     "output_type": "execute_result"
    }
   ],
   "source": [
    "# convert Fare to buckets\n",
    "challenge_data['Fare'] = challenge_data.groupby(['Pclass'])['Fare'].transform(lambda x: x.fillna(x.mean()))  \n",
    "challenge_data.loc[challenge_data['Fare'] <= 7.8, 'Fare'] = 1\n",
    "challenge_data.loc[(challenge_data['Fare'] > 7.8) & (challenge_data['Fare'] <= 11), 'Fare'] = 2\n",
    "challenge_data.loc[(challenge_data['Fare'] > 11) & (challenge_data['Fare'] <= 24), 'Fare']   = 3\n",
    "challenge_data.loc[(challenge_data['Fare'] > 24) & (challenge_data['Fare'] <= 50), 'Fare']   = 4\n",
    "challenge_data.loc[challenge_data['Fare'] > 50, 'Fare']   = 5\n",
    "challenge_data['Fare'] = challenge_data['Fare'].astype(int)\n",
    "challenge_data['Fare'].value_counts()"
   ]
  },
  {
   "cell_type": "markdown",
   "metadata": {},
   "source": [
    "**Step 2: Add New Features**"
   ]
  },
  {
   "cell_type": "markdown",
   "metadata": {},
   "source": [
    "Since from previous graphical analysis, we found\n",
    "\n",
    "- People of different age had different survival rate, and the distributions are sexually different\n",
    "- People with different amount of companions tend to have different survival rate\n",
    "- The embarked place altogether with the class of the passenger somehow affect their survival rate\n",
    "\n",
    "Hence, we can create some new features considering these aspects"
   ]
  },
  {
   "cell_type": "code",
   "execution_count": 69,
   "metadata": {},
   "outputs": [],
   "source": [
    "# Convert Embarked to numerical values\n",
    "ports = {\"S\": 0, \"C\": 2, \"Q\": 1}\n",
    "challenge_data['Embarked'] = challenge_data['Embarked'].map(ports)\n",
    "\n",
    "# Create some new features\n",
    "challenge_data['IsMale'] = np.where(challenge_data[\"Sex\"]=='male',1,0)\n",
    "challenge_data['IsFemale'] = np.where(challenge_data['Sex']=='female',1,0)\n",
    "\n",
    "challenge_data['Male_Age'] = challenge_data['IsMale']*challenge_data['Age']\n",
    "challenge_data['Female_Age'] = challenge_data['IsFemale']*challenge_data['Age']\n",
    "challenge_data['Male_Pclass'] = challenge_data['IsMale']*challenge_data['Pclass']\n",
    "challenge_data['Female_Pclass'] = challenge_data['IsFemale']*challenge_data['Pclass']\n",
    "challenge_data['Male_Embarked'] = challenge_data['IsMale']*challenge_data['Embarked']\n",
    "challenge_data['Female_Embarked'] = challenge_data['IsFemale']*challenge_data['Embarked']\n",
    "challenge_data['Embarked_Pclass'] = challenge_data['Pclass']*challenge_data['Embarked']\n",
    "challenge_data['Male_Embarked_Pclass'] = challenge_data['IsMale']*challenge_data['Pclass']*challenge_data['Embarked']\n",
    "challenge_data['Female_Embarked_Pclass'] = challenge_data['IsFemale']*challenge_data['Pclass']*challenge_data['Embarked']\n",
    "\n",
    "challenge_data[\"Companion\"]=challenge_data[\"SibSp\"]+challenge_data[\"Parch\"]\n",
    "challenge_data['Pclass_SibSp'] = challenge_data['SibSp']*challenge_data['Pclass']\n",
    "challenge_data['Pclass_Parch'] = challenge_data['Parch']*challenge_data['Pclass']\n",
    "challenge_data[\"Fare_per_person\"] = challenge_data[\"Fare\"]/(challenge_data[\"Companion\"]+1)\n",
    "challenge_data[\"Age_with_class\"] = challenge_data[\"Age\"]*challenge_data[\"Pclass\"]\n",
    "challenge_data[\"Travel_alone\"]= np.where(challenge_data[\"Companion\"] > 0, 0,1)\n",
    "\n",
    "# drop the one hot created by myself\n",
    "challenge_data.drop('IsMale',axis=1,inplace=True)\n",
    "challenge_data.drop('IsFemale',axis=1,inplace=True)"
   ]
  },
  {
   "cell_type": "markdown",
   "metadata": {},
   "source": [
    "**Step 3: Test Importance of New Attributes**"
   ]
  },
  {
   "cell_type": "code",
   "execution_count": 70,
   "metadata": {},
   "outputs": [],
   "source": [
    "exp_num_attribs = [\"Age\", \"SibSp\", \"Parch\", \"Fare\", \"Male_Age\", \"Female_Age\", \\\n",
    "                   \"Age_with_class\",\"Pclass_SibSp\",\"Pclass_Parch\",\"Companion\"]\n",
    "exp_cat_attribs = [\"Pclass\", \"Embarked\", \"Title\", \"Male_Pclass\", \"Female_Pclass\",\"Fare_per_person\", \"Male_Embarked\",\\\n",
    "                   \"Female_Embarked\", \"Embarked_Pclass\",\"Male_Embarked_Pclass\", \"Female_Embarked_Pclass\", \"Travel_alone\"]\n",
    "exp_num_pipeline = Pipeline([\n",
    "    (\"num_selector\", DataFrameSelector(exp_num_attribs)),\n",
    "    (\"num_imputer\", SimpleImputer(strategy = \"median\")),\n",
    "    ('std_scaler', StandardScaler()),\n",
    "    ])\n",
    "\n",
    "exp_cat_pipeline = Pipeline([\n",
    "    (\"cat_selector\", DataFrameSelector(exp_cat_attribs)),\n",
    "    (\"cat_imputer\",MostFrequentImputer()),\n",
    "    (\"cat_encoder\",OrdinalEncoder()),\n",
    "    ])\n",
    "\n",
    "exp_pipeline = FeatureUnion(transformer_list=[\n",
    "    (\"exp_num\", exp_num_pipeline),\n",
    "    (\"exp_cat\", exp_cat_pipeline),\n",
    "])\n",
    "\n",
    "X_experiment = exp_pipeline.fit_transform(challenge_data)\n",
    "y_experiment = challenge_data[\"Survived\"]\n"
   ]
  },
  {
   "cell_type": "code",
   "execution_count": 71,
   "metadata": {},
   "outputs": [
    {
     "data": {
      "text/plain": [
       "0.9551066217732884"
      ]
     },
     "execution_count": 71,
     "metadata": {},
     "output_type": "execute_result"
    }
   ],
   "source": [
    "random_forest = RandomForestClassifier(n_estimators=100)\n",
    "random_forest.fit(X_experiment, y_experiment)\n",
    "random_forest.score(X_experiment, y_experiment)"
   ]
  },
  {
   "cell_type": "code",
   "execution_count": 72,
   "metadata": {},
   "outputs": [
    {
     "data": {
      "text/html": [
       "<div>\n",
       "<style scoped>\n",
       "    .dataframe tbody tr th:only-of-type {\n",
       "        vertical-align: middle;\n",
       "    }\n",
       "\n",
       "    .dataframe tbody tr th {\n",
       "        vertical-align: top;\n",
       "    }\n",
       "\n",
       "    .dataframe thead th {\n",
       "        text-align: right;\n",
       "    }\n",
       "</style>\n",
       "<table border=\"1\" class=\"dataframe\">\n",
       "  <thead>\n",
       "    <tr style=\"text-align: right;\">\n",
       "      <th></th>\n",
       "      <th>importance</th>\n",
       "    </tr>\n",
       "    <tr>\n",
       "      <th>feature</th>\n",
       "      <th></th>\n",
       "    </tr>\n",
       "  </thead>\n",
       "  <tbody>\n",
       "    <tr>\n",
       "      <th>Male_Age</th>\n",
       "      <td>0.161</td>\n",
       "    </tr>\n",
       "    <tr>\n",
       "      <th>Age_with_class</th>\n",
       "      <td>0.128</td>\n",
       "    </tr>\n",
       "    <tr>\n",
       "      <th>Age</th>\n",
       "      <td>0.100</td>\n",
       "    </tr>\n",
       "    <tr>\n",
       "      <th>Female_Age</th>\n",
       "      <td>0.093</td>\n",
       "    </tr>\n",
       "    <tr>\n",
       "      <th>Title</th>\n",
       "      <td>0.080</td>\n",
       "    </tr>\n",
       "    <tr>\n",
       "      <th>Female_Pclass</th>\n",
       "      <td>0.073</td>\n",
       "    </tr>\n",
       "    <tr>\n",
       "      <th>Fare_per_person</th>\n",
       "      <td>0.059</td>\n",
       "    </tr>\n",
       "    <tr>\n",
       "      <th>Male_Pclass</th>\n",
       "      <td>0.049</td>\n",
       "    </tr>\n",
       "    <tr>\n",
       "      <th>Fare</th>\n",
       "      <td>0.046</td>\n",
       "    </tr>\n",
       "    <tr>\n",
       "      <th>Pclass</th>\n",
       "      <td>0.040</td>\n",
       "    </tr>\n",
       "    <tr>\n",
       "      <th>Companion</th>\n",
       "      <td>0.027</td>\n",
       "    </tr>\n",
       "    <tr>\n",
       "      <th>Pclass_SibSp</th>\n",
       "      <td>0.024</td>\n",
       "    </tr>\n",
       "    <tr>\n",
       "      <th>Female_Embarked</th>\n",
       "      <td>0.021</td>\n",
       "    </tr>\n",
       "    <tr>\n",
       "      <th>Female_Embarked_Pclass</th>\n",
       "      <td>0.019</td>\n",
       "    </tr>\n",
       "    <tr>\n",
       "      <th>SibSp</th>\n",
       "      <td>0.018</td>\n",
       "    </tr>\n",
       "    <tr>\n",
       "      <th>Pclass_Parch</th>\n",
       "      <td>0.013</td>\n",
       "    </tr>\n",
       "    <tr>\n",
       "      <th>Parch</th>\n",
       "      <td>0.012</td>\n",
       "    </tr>\n",
       "    <tr>\n",
       "      <th>Embarked</th>\n",
       "      <td>0.011</td>\n",
       "    </tr>\n",
       "    <tr>\n",
       "      <th>Embarked_Pclass</th>\n",
       "      <td>0.010</td>\n",
       "    </tr>\n",
       "    <tr>\n",
       "      <th>Travel_alone</th>\n",
       "      <td>0.007</td>\n",
       "    </tr>\n",
       "    <tr>\n",
       "      <th>Male_Embarked</th>\n",
       "      <td>0.005</td>\n",
       "    </tr>\n",
       "    <tr>\n",
       "      <th>Male_Embarked_Pclass</th>\n",
       "      <td>0.004</td>\n",
       "    </tr>\n",
       "  </tbody>\n",
       "</table>\n",
       "</div>"
      ],
      "text/plain": [
       "                        importance\n",
       "feature                           \n",
       "Male_Age                     0.161\n",
       "Age_with_class               0.128\n",
       "Age                          0.100\n",
       "Female_Age                   0.093\n",
       "Title                        0.080\n",
       "Female_Pclass                0.073\n",
       "Fare_per_person              0.059\n",
       "Male_Pclass                  0.049\n",
       "Fare                         0.046\n",
       "Pclass                       0.040\n",
       "Companion                    0.027\n",
       "Pclass_SibSp                 0.024\n",
       "Female_Embarked              0.021\n",
       "Female_Embarked_Pclass       0.019\n",
       "SibSp                        0.018\n",
       "Pclass_Parch                 0.013\n",
       "Parch                        0.012\n",
       "Embarked                     0.011\n",
       "Embarked_Pclass              0.010\n",
       "Travel_alone                 0.007\n",
       "Male_Embarked                0.005\n",
       "Male_Embarked_Pclass         0.004"
      ]
     },
     "execution_count": 72,
     "metadata": {},
     "output_type": "execute_result"
    }
   ],
   "source": [
    "exp_columns = [\"Age\", \"SibSp\", \"Parch\", \"Fare\", \"Male_Age\", \"Female_Age\",  \"Age_with_class\",\"Pclass_SibSp\",\\\n",
    "               \"Pclass_Parch\",\"Companion\",\"Pclass\", \"Embarked\", \"Title\", \"Male_Pclass\", \"Female_Pclass\",\"Fare_per_person\", \"Male_Embarked\",\\\n",
    "               \"Female_Embarked\", \"Embarked_Pclass\",\"Male_Embarked_Pclass\", \"Female_Embarked_Pclass\", \"Travel_alone\"]\n",
    "importances = pd.DataFrame({'feature':exp_columns,'importance':np.round(random_forest.feature_importances_,3)})\n",
    "importances = importances.sort_values('importance',ascending=False).set_index('feature')\n",
    "importances"
   ]
  },
  {
   "cell_type": "markdown",
   "metadata": {},
   "source": [
    "**Step 4: Build the Model**"
   ]
  },
  {
   "cell_type": "code",
   "execution_count": 73,
   "metadata": {},
   "outputs": [],
   "source": [
    "num_attribs_3=[\"Male_Age\", \"Female_Age\",  \"Age_with_class\",\"Pclass_SibSp\",\"SibSp\",\"Parch\"]\n",
    "cat_attribs_3 = [\"Title\",\"Male_Pclass\", \"Fare_per_person\",\"Female_Pclass\",\"Female_Embarked\", \\\n",
    "                 \"Pclass\", \"Female_Embarked_Pclass\",\"Male_Embarked_Pclass\",\"Embarked_Pclass\"]\n",
    "\n",
    "num_pipeline_3 = Pipeline([\n",
    "    (\"num_selector\", DataFrameSelector(num_attribs_3)),\n",
    "    (\"num_imputer\", SimpleImputer(strategy = \"median\")),\n",
    "    ('std_scaler', StandardScaler()),\n",
    "    ])\n",
    "\n",
    "cat_pipeline_3 = Pipeline([\n",
    "    (\"cat_selector\", DataFrameSelector(cat_attribs_3)),\n",
    "    (\"cat_imputer\",MostFrequentImputer()),\n",
    "    (\"cat_encoder\",OneHotEncoder(sparse=False, categories=\"auto\")),\n",
    "    ])\n",
    "\n",
    "full_pipeline_3 = FeatureUnion(transformer_list=[\n",
    "    (\"num\", num_pipeline_3),\n",
    "    (\"cat\", cat_pipeline_3),\n",
    "])"
   ]
  },
  {
   "cell_type": "code",
   "execution_count": 74,
   "metadata": {},
   "outputs": [],
   "source": [
    "X_train_3 = full_pipeline_3.fit_transform(challenge_data)\n",
    "y_train_3 = challenge_data[\"Survived\"]"
   ]
  },
  {
   "cell_type": "code",
   "execution_count": 75,
   "metadata": {},
   "outputs": [
    {
     "name": "stdout",
     "output_type": "stream",
     "text": [
      "C= 0.001 CV score is 0.8024581998569396 Accuracy is 0.8069584736251403\n",
      "C= 0.005 CV score is 0.8102794289072188 Accuracy is 0.819304152637486\n",
      "C= 0.01 CV score is 0.8170527419269611 Accuracy is 0.8181818181818182\n",
      "C= 0.05 CV score is 0.8182142126337911 Accuracy is 0.8395061728395061\n",
      "C= 0.1 CV score is 0.8317039194804432 Accuracy is 0.8428731762065096\n",
      "C= 0.5 CV score is 0.8238510922988155 Accuracy is 0.8484848484848485\n",
      "C= 1 CV score is 0.8272218788156694 Accuracy is 0.8428731762065096\n",
      "C= 5 CV score is 0.8182581521228377 Accuracy is 0.8529741863075196\n",
      "C= 10 CV score is 0.8182581521228377 Accuracy is 0.8529741863075196\n",
      "C= 50 CV score is 0.8238762715056138 Accuracy is 0.8484848484848485\n",
      "C= 100 CV score is 0.8238762715056138 Accuracy is 0.8484848484848485\n",
      "C= 500 CV score is 0.8227589530698596 Accuracy is 0.8496071829405163\n",
      "C= 1000 CV score is 0.8227589530698596 Accuracy is 0.8496071829405163\n"
     ]
    }
   ],
   "source": [
    "# Check for a best C value\n",
    "for i in testlist:\n",
    "    experiment_3_clf = linear_model.LogisticRegression(solver='liblinear',C=i)\n",
    "    experiment_3_clf.fit(X_train_3, y_train_3)\n",
    "    y_train_3_predict = experiment_3_clf.predict(X_train_3)\n",
    "\n",
    "    experiment_3_cross_val = cross_val_score(experiment_3_clf, X_train_3, y_train_3, cv=5)\n",
    "    print(\"C=\", i, \"CV score is\", experiment_3_cross_val.mean(),\\\n",
    "          \"Accuracy is\", metrics.accuracy_score(y_train_3, y_train_3_predict))"
   ]
  },
  {
   "cell_type": "code",
   "execution_count": 76,
   "metadata": {},
   "outputs": [
    {
     "data": {
      "text/plain": [
       "0.8182581521228377"
      ]
     },
     "execution_count": 76,
     "metadata": {},
     "output_type": "execute_result"
    }
   ],
   "source": [
    "# Use the C with highest accuracy value to generate the result\n",
    "experiment_3_clf = linear_model.LogisticRegression(solver='liblinear',C=10)\n",
    "experiment_3_clf.fit(X_train_3, y_train_3)\n",
    "y_train_3_predict = experiment_3_clf.predict(X_train_3)\n",
    "\n",
    "experiment_3_cross_val = cross_val_score(experiment_3_clf, X_train_3, y_train_3, cv=5)\n",
    "experiment_3_cross_val.mean()"
   ]
  },
  {
   "cell_type": "code",
   "execution_count": 77,
   "metadata": {},
   "outputs": [
    {
     "data": {
      "text/plain": [
       "0.8529741863075196"
      ]
     },
     "execution_count": 77,
     "metadata": {},
     "output_type": "execute_result"
    }
   ],
   "source": [
    "SCORE_3 = metrics.accuracy_score(y_train_3, y_train_3_predict)\n",
    "SCORE_3"
   ]
  },
  {
   "cell_type": "code",
   "execution_count": 78,
   "metadata": {},
   "outputs": [
    {
     "data": {
      "text/plain": [
       "array([[514,  35],\n",
       "       [ 96, 246]], dtype=int64)"
      ]
     },
     "execution_count": 78,
     "metadata": {},
     "output_type": "execute_result"
    }
   ],
   "source": [
    "# the confusion matrix will be \n",
    "experiment_3_confusion_mat = metrics.confusion_matrix(y_train_3, y_train_3_predict)\n",
    "experiment_3_confusion_mat"
   ]
  },
  {
   "cell_type": "code",
   "execution_count": 79,
   "metadata": {},
   "outputs": [
    {
     "data": {
      "text/plain": [
       "0.8277729843735021"
      ]
     },
     "execution_count": 79,
     "metadata": {},
     "output_type": "execute_result"
    }
   ],
   "source": [
    "experiment_3_roc_score= metrics.roc_auc_score(y_train_3, y_train_3_predict)\n",
    "experiment_3_roc_score"
   ]
  },
  {
   "cell_type": "code",
   "execution_count": 80,
   "metadata": {},
   "outputs": [
    {
     "data": {
      "image/png": "[encoded data removed]",
      "text/plain": [
       "<Figure size 576x288 with 1 Axes>"
      ]
     },
     "metadata": {},
     "output_type": "display_data"
    }
   ],
   "source": [
    "# plot the precision-recall curve\n",
    "exp3_scores = cross_val_predict(experiment_3_clf, X_train_3, y_train_3, cv=5,\n",
    "                             method=\"decision_function\")\n",
    "\n",
    "if exp3_scores.ndim == 2:\n",
    "    exp3_scores = exp3_scores[:, 1]\n",
    "\n",
    "exp3_precisions, exp3_recalls, exp3_thresholds = metrics.precision_recall_curve(y_train_3, exp3_scores)\n",
    "\n",
    "plt.figure(figsize=(8, 4))\n",
    "plot_precision_recall_vs_threshold(exp3_precisions, exp3_recalls, exp3_thresholds)\n",
    "plt.xlim([-5, 5])\n",
    "plt.show()"
   ]
  },
  {
   "cell_type": "code",
   "execution_count": 81,
   "metadata": {},
   "outputs": [
    {
     "data": {
      "text/plain": [
       "0.8317039194804432"
      ]
     },
     "execution_count": 81,
     "metadata": {},
     "output_type": "execute_result"
    }
   ],
   "source": [
    "# Use the best C with highest cross calidation mean to generate the result\n",
    "experiment_4_clf = linear_model.LogisticRegression(solver='liblinear',C=0.1)\n",
    "experiment_4_clf.fit(X_train_3, y_train_3)\n",
    "y_train_4_predict = experiment_4_clf.predict(X_train_3)\n",
    "\n",
    "experiment_4_cross_val = cross_val_score(experiment_4_clf, X_train_3, y_train_3, cv=5)\n",
    "experiment_4_cross_val.mean()"
   ]
  },
  {
   "cell_type": "code",
   "execution_count": 82,
   "metadata": {},
   "outputs": [
    {
     "data": {
      "text/plain": [
       "0.8428731762065096"
      ]
     },
     "execution_count": 82,
     "metadata": {},
     "output_type": "execute_result"
    }
   ],
   "source": [
    "SCORE_4 = metrics.accuracy_score(y_train_3, y_train_4_predict)\n",
    "SCORE_4"
   ]
  },
  {
   "cell_type": "code",
   "execution_count": 83,
   "metadata": {},
   "outputs": [
    {
     "data": {
      "text/plain": [
       "0.8195762630620267"
      ]
     },
     "execution_count": 83,
     "metadata": {},
     "output_type": "execute_result"
    }
   ],
   "source": [
    "experiment_4_roc_score= metrics.roc_auc_score(y_train_3, y_train_4_predict)\n",
    "experiment_4_roc_score"
   ]
  },
  {
   "cell_type": "code",
   "execution_count": 84,
   "metadata": {
    "scrolled": true
   },
   "outputs": [
    {
     "data": {
      "image/png": "[encoded data removed]",
      "text/plain": [
       "<Figure size 576x288 with 1 Axes>"
      ]
     },
     "metadata": {},
     "output_type": "display_data"
    }
   ],
   "source": [
    "# plot the precision-recall curve\n",
    "exp4_scores = cross_val_predict(experiment_4_clf, X_train_3, y_train_3, cv=5,\n",
    "                             method=\"decision_function\")\n",
    "\n",
    "if exp4_scores.ndim == 2:\n",
    "    exp4_scores = exp4_scores[:, 1]\n",
    "\n",
    "exp4_precisions, exp4_recalls, exp4_thresholds = metrics.precision_recall_curve(y_train_3, exp4_scores)\n",
    "\n",
    "plt.figure(figsize=(8, 4))\n",
    "plot_precision_recall_vs_threshold(exp4_precisions, exp4_recalls, exp4_thresholds)\n",
    "plt.xlim([-5, 5])\n",
    "plt.show()"
   ]
  },
  {
   "cell_type": "markdown",
   "metadata": {},
   "source": [
    "With feature engineering and new method for fillin the missing data, we reached an accuracy of 0.85 and it is substantially better than previous models and baseline model."
   ]
  },
  {
   "cell_type": "markdown",
   "metadata": {},
   "source": [
    "# <span style=\"color:red\">**For Test Purpose**</span>"
   ]
  },
  {
   "cell_type": "markdown",
   "metadata": {},
   "source": [
    "The rest part is used for test the model using the test set"
   ]
  },
  {
   "cell_type": "code",
   "execution_count": 85,
   "metadata": {},
   "outputs": [
    {
     "ename": "SyntaxError",
     "evalue": "invalid syntax (<ipython-input-85-9c9d4c9bc3b4>, line 6)",
     "output_type": "error",
     "traceback": [
      "\u001b[1;36m  File \u001b[1;32m\"<ipython-input-85-9c9d4c9bc3b4>\"\u001b[1;36m, line \u001b[1;32m6\u001b[0m\n\u001b[1;33m    test_data =\u001b[0m\n\u001b[1;37m                ^\u001b[0m\n\u001b[1;31mSyntaxError\u001b[0m\u001b[1;31m:\u001b[0m invalid syntax\n"
     ]
    }
   ],
   "source": [
    "\"\"\"\n",
    "Load the test set\n",
    "\n",
    "\"\"\"\n",
    "\n",
    "test_data = \n"
   ]
  },
  {
   "cell_type": "markdown",
   "metadata": {},
   "source": [
    "## Baseline Model"
   ]
  },
  {
   "cell_type": "code",
   "execution_count": null,
   "metadata": {},
   "outputs": [],
   "source": [
    "base_test = test_data.copy()"
   ]
  },
  {
   "cell_type": "code",
   "execution_count": null,
   "metadata": {},
   "outputs": [],
   "source": [
    "# Convert Embarked to numerical values\n",
    "ports2 = {\"S\": -1, \"Q\": 0, \"C\": 1}\n",
    "base_test['Embarked'] = base_test['Embarked'].map(ports2)\n",
    "\n",
    "# Convert Sex to numerical values\n",
    "sex_map2 = {\"male\": -1, \"female\": 1}\n",
    "base_test['Sex'] = base_test['Sex'].map(sex_map2)"
   ]
  },
  {
   "cell_type": "code",
   "execution_count": null,
   "metadata": {},
   "outputs": [],
   "source": [
    "X_test = base_pipeline.fit_transform(base_test)\n",
    "y_test = base_test[\"Survived\"]\n",
    "y_test_predict = baseline_clf.predict(X_test)"
   ]
  },
  {
   "cell_type": "code",
   "execution_count": null,
   "metadata": {},
   "outputs": [],
   "source": [
    "baseline_test_cross_val = cross_val_score(baseline_clf, X_test, y_test, cv=5)\n",
    "baseline_test_cross_val.mean()"
   ]
  },
  {
   "cell_type": "code",
   "execution_count": null,
   "metadata": {},
   "outputs": [],
   "source": [
    "SCORE_BASELINE_test = metrics.accuracy_score(y_test, y_test_predict)\n",
    "SCORE_BASELINE_test"
   ]
  },
  {
   "cell_type": "code",
   "execution_count": null,
   "metadata": {},
   "outputs": [],
   "source": [
    "baseline_test_confusion_mat = metrics.confusion_matrix(y_test, y_test_predict)\n",
    "baseline_test_confusion_mat"
   ]
  },
  {
   "cell_type": "markdown",
   "metadata": {},
   "source": [
    "## Experiment 1"
   ]
  },
  {
   "cell_type": "code",
   "execution_count": null,
   "metadata": {},
   "outputs": [],
   "source": [
    "X_test_1 = full_pipeline_1.fit_transform(test_data)\n",
    "y_test_1 = test_data[\"Survived\"]\n",
    "y_test_1_predict = experiment_1_clf.predict(X_test_1)\n",
    "\n",
    "test_exp_1_cross_val = cross_val_score(experiment_1_clf, X_test_1, y_test_1, cv=5)\n",
    "test_exp_1_cross_val.mean()"
   ]
  },
  {
   "cell_type": "code",
   "execution_count": null,
   "metadata": {},
   "outputs": [],
   "source": [
    "SCORE_1_test = metrics.accuracy_score(y_test_1, y_test_1_predict)\n",
    "SCORE_1_test"
   ]
  },
  {
   "cell_type": "code",
   "execution_count": null,
   "metadata": {},
   "outputs": [],
   "source": [
    "test_confusion_mat_1 = metrics.confusion_matrix(y_test_1, y_test_1_predict)\n",
    "test_confusion_mat_1"
   ]
  },
  {
   "cell_type": "markdown",
   "metadata": {},
   "source": [
    "## Experiment 2"
   ]
  },
  {
   "cell_type": "code",
   "execution_count": null,
   "metadata": {},
   "outputs": [],
   "source": [
    "test_2_data = test_data.copy()"
   ]
  },
  {
   "cell_type": "code",
   "execution_count": null,
   "metadata": {},
   "outputs": [],
   "source": [
    "# Fill in the missing age data according to its population\n",
    "age_dist2 = test_2_data[\"Age\"].value_counts(normalize=True)\n",
    "age_missing2 = test_2_data[\"Age\"].isnull()\n",
    "test_2_data.loc[age_missing2,'Age'] = np.random.choice(age_dist2.index, size=len(test_2_data[age_missing2]),p=age_dist2.values)"
   ]
  },
  {
   "cell_type": "code",
   "execution_count": null,
   "metadata": {},
   "outputs": [],
   "source": [
    "# convert age into buckets\n",
    "test_2_data.loc[ test_2_data['Age'] <= 16, 'Age'] = 0\n",
    "test_2_data.loc[(test_2_data['Age'] > 16) & (test_2_data['Age'] <= 21), 'Age'] = 1\n",
    "test_2_data.loc[(test_2_data['Age'] > 21) & (test_2_data['Age'] <= 25), 'Age'] = 2\n",
    "test_2_data.loc[(test_2_data['Age'] > 25) & (test_2_data['Age'] <= 30), 'Age'] = 3\n",
    "test_2_data.loc[(test_2_data['Age'] > 30) & (test_2_data['Age'] <= 36), 'Age'] = 4\n",
    "test_2_data.loc[(test_2_data['Age'] > 36) & (test_2_data['Age'] <= 45), 'Age'] = 5\n",
    "test_2_data.loc[test_2_data['Age'] > 45, 'Age'] = 6\n",
    "\n",
    "test_2_data['Age'] = test_2_data['Age'].astype(int)"
   ]
  },
  {
   "cell_type": "code",
   "execution_count": null,
   "metadata": {},
   "outputs": [],
   "source": [
    "X_test_2 = full_pipeline_2.fit_transform(test_2_data)\n",
    "y_test_2 = test_2_data[\"Survived\"]\n",
    "y_test_2_predict = experiment_2_clf.predict(X_test_2)\n",
    "\n",
    "test_exp_2_cross_val = cross_val_score(experiment_2_clf, X_test_2, y_test_2, cv=5)\n",
    "test_exp_2_cross_val.mean()"
   ]
  },
  {
   "cell_type": "code",
   "execution_count": null,
   "metadata": {},
   "outputs": [],
   "source": [
    "SCORE_2_test = metrics.accuracy_score(y_test_2, y_test_2_predict)\n",
    "SCORE_2_test"
   ]
  },
  {
   "cell_type": "code",
   "execution_count": null,
   "metadata": {},
   "outputs": [],
   "source": [
    "test_2_confusion_mat = metrics.confusion_matrix(y_test_2, y_test_2_predict)\n",
    "test_2_confusion_mat"
   ]
  },
  {
   "cell_type": "markdown",
   "metadata": {},
   "source": [
    "## Extra Credit Model"
   ]
  },
  {
   "cell_type": "code",
   "execution_count": null,
   "metadata": {},
   "outputs": [],
   "source": [
    "test_3_data = train_data.copy()\n",
    "\n",
    "# Fill in the ages according to their titles\n",
    "test_3_data['Title'] = test_3_data['Name'].str.extract(' ([A-Za-z]+)\\.', expand=False)\n",
    "test_3_data['Title'] = test_3_data['Title'].replace(['Lady', 'Countess','Capt', 'Col',\\\n",
    "                                                     'Don', 'Dr', 'Major', 'Rev', 'Sir', 'Jonkheer', 'Dona'], 'Rare')\n",
    "test_3_data['Title'] = test_3_data['Title'].replace({'Mlle':'Miss','Ms':'Miss','Mme':'Mrs'})\n",
    "\n",
    "# label titles with number\n",
    "title_map2 = {\"Mr\": 1, \"Miss\": 2, \"Mrs\": 3, \"Master\": 4, \"Rare\": 5}\n",
    "test_3_data['Title'] = test_3_data['Title'].map(title_map2)\n",
    "test_3_data['Title'] = test_3_data['Title'].fillna(0)\n",
    "\n",
    "test_3_data['Age'] = test_3_data.groupby(['Title'])['Age'].transform(lambda x: x.fillna(x.mean())) "
   ]
  },
  {
   "cell_type": "code",
   "execution_count": null,
   "metadata": {},
   "outputs": [],
   "source": [
    "# convert Fare to buckets\n",
    "test_3_data['Fare'] = test_3_data.groupby(['Pclass'])['Fare'].transform(lambda x: x.fillna(x.mean()))  \n",
    "\n",
    "test_3_data.loc[test_3_data['Fare'] <= 7.8, 'Fare'] = 1\n",
    "test_3_data.loc[(test_3_data['Fare'] > 7.8) & (test_3_data['Fare'] <= 11), 'Fare'] = 2\n",
    "test_3_data.loc[(test_3_data['Fare'] > 11) & (test_3_data['Fare'] <= 24), 'Fare']   = 3\n",
    "test_3_data.loc[(test_3_data['Fare'] > 24) & (test_3_data['Fare'] <= 50), 'Fare']   = 4\n",
    "test_3_data.loc[test_3_data['Fare'] > 50, 'Fare']   = 5\n",
    "test_3_data['Fare'] = test_3_data['Fare'].astype(int)"
   ]
  },
  {
   "cell_type": "code",
   "execution_count": null,
   "metadata": {},
   "outputs": [],
   "source": [
    "# Convert Embarked to numerical values\n",
    "ports = {\"S\": 0, \"C\": 2, \"Q\": 1}\n",
    "test_3_data['Embarked'] = test_3_data['Embarked'].map(ports)\n",
    "\n",
    "# Create some new features\n",
    "test_3_data['IsMale'] = np.where(test_3_data[\"Sex\"]=='male',1,0)\n",
    "test_3_data['IsFemale'] = np.where(test_3_data['Sex']=='female',1,0)\n",
    "\n",
    "test_3_data['Male_Age'] = test_3_data['IsMale']*test_3_data['Age']\n",
    "test_3_data['Female_Age'] = test_3_data['IsFemale']*test_3_data['Age']\n",
    "test_3_data['Male_Pclass'] = test_3_data['IsMale']*test_3_data['Pclass']\n",
    "test_3_data['Female_Pclass'] = test_3_data['IsFemale']*test_3_data['Pclass']\n",
    "test_3_data['Female_Embarked'] = test_3_data['IsFemale']*test_3_data['Embarked']\n",
    "test_3_data['Embarked_Pclass'] = test_3_data['Pclass']*test_3_data['Embarked']\n",
    "test_3_data['Male_Embarked_Pclass'] = test_3_data['IsMale']*test_3_data['Pclass']*test_3_data['Embarked']\n",
    "test_3_data['Female_Embarked_Pclass'] = test_3_data['IsFemale']*test_3_data['Pclass']*test_3_data['Embarked']\n",
    "\n",
    "test_3_data[\"Companion\"]=test_3_data[\"SibSp\"]+test_3_data[\"Parch\"]\n",
    "test_3_data['Pclass_SibSp'] = test_3_data['SibSp']*test_3_data['Pclass']\n",
    "test_3_data[\"Fare_per_person\"] = test_3_data[\"Fare\"]/(test_3_data[\"Companion\"]+1)\n",
    "test_3_data[\"Age_with_class\"] = test_3_data[\"Age\"]*test_3_data[\"Pclass\"]\n",
    "\n",
    "# drop the one hot created by myself\n",
    "test_3_data.drop('IsMale',axis=1,inplace=True)\n",
    "test_3_data.drop('IsFemale',axis=1,inplace=True)\n",
    "test_3_data.drop('Companion',axis=1,inplace=True)"
   ]
  },
  {
   "cell_type": "code",
   "execution_count": null,
   "metadata": {},
   "outputs": [],
   "source": [
    "X_test_3 = full_pipeline_3.fit_transform(test_3_data)\n",
    "y_test_3 = challenge_data[\"Survived\"]\n",
    "y_test_3_predict = experiment_3_clf.predict(X_test_3)\n",
    "y_test_4_predict = experiment_4_clf.predict(X_test_3)"
   ]
  },
  {
   "cell_type": "markdown",
   "metadata": {},
   "source": [
    "### Highest accuracy model"
   ]
  },
  {
   "cell_type": "code",
   "execution_count": null,
   "metadata": {},
   "outputs": [],
   "source": [
    "test_exp_3_cross_val = cross_val_score(experiment_3_clf, X_test_3, y_test_3, cv=5)\n",
    "test_exp_3_cross_val.mean()"
   ]
  },
  {
   "cell_type": "code",
   "execution_count": null,
   "metadata": {},
   "outputs": [],
   "source": [
    "SCORE_3_test = metrics.accuracy_score(y_test_3, y_test_3_predict)\n",
    "SCORE_3_test"
   ]
  },
  {
   "cell_type": "code",
   "execution_count": null,
   "metadata": {},
   "outputs": [],
   "source": [
    "test_3_confusion_mat = metrics.confusion_matrix(y_test_3, y_test_3_predict)\n",
    "test_3_confusion_mat"
   ]
  },
  {
   "cell_type": "markdown",
   "metadata": {},
   "source": [
    "### Highest cross validation model"
   ]
  },
  {
   "cell_type": "code",
   "execution_count": null,
   "metadata": {},
   "outputs": [],
   "source": [
    "test_exp_4_cross_val = cross_val_score(experiment_4_clf, X_test_3, y_test_3, cv=5)\n",
    "test_exp_4_cross_val.mean()"
   ]
  },
  {
   "cell_type": "code",
   "execution_count": null,
   "metadata": {},
   "outputs": [],
   "source": [
    "SCORE_4_test = metrics.accuracy_score(y_test_3, y_test_4_predict)\n",
    "SCORE_4_test"
   ]
  },
  {
   "cell_type": "code",
   "execution_count": null,
   "metadata": {},
   "outputs": [],
   "source": [
    "test_4_confusion_mat = metrics.confusion_matrix(y_test_3, y_test_4_predict)\n",
    "test_4_confusion_mat"
   ]
  },
  {
   "cell_type": "markdown",
   "metadata": {},
   "source": [
    "End"
   ]
  }
 ],
 "metadata": {
  "kernelspec": {
   "display_name": "Python 3",
   "language": "python",
   "name": "python3"
  },
  "language_info": {
   "codemirror_mode": {
    "name": "ipython",
    "version": 3
   },
   "file_extension": ".py",
   "mimetype": "text/x-python",
   "name": "python",
   "nbconvert_exporter": "python",
   "pygments_lexer": "ipython3",
   "version": "3.6.5"
  },
  "toc": {
   "base_numbering": 1,
   "nav_menu": {},
   "number_sections": true,
   "sideBar": true,
   "skip_h1_title": false,
   "title_cell": "Table of Contents",
   "title_sidebar": "Contents",
   "toc_cell": false,
   "toc_position": {
    "height": "calc(100% - 180px)",
    "left": "10px",
    "top": "150px",
    "width": "165px"
   },
   "toc_section_display": true,
   "toc_window_display": false
  }
 },
 "nbformat": 4,
 "nbformat_minor": 2
}
